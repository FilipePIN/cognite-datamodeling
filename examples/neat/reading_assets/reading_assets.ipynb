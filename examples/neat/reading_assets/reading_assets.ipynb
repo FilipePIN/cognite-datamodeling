{
 "cells": [
  {
   "cell_type": "code",
   "execution_count": null,
   "metadata": {},
   "outputs": [
    {
     "name": "stdout",
     "output_type": "stream",
     "text": [
      "For Neat to improve, we need to collect usage information. You acknowledge and agree that neat may collect usage information.To remove this message run 'neat.opt.in_() or to stop collecting usage information run 'neat.opt.out()'.\n"
     ]
    }
   ],
   "source": [
    "from cognite.client import CogniteClient\n",
    "from cognite.neat import NeatSession\n",
    "\n",
    "cognite_client = CogniteClient.default_oauth_client_credentials(\n",
    "    project=\"\",\n",
    "    cdf_cluster=\"\",\n",
    "    tenant_id=\"\",\n",
    "    client_id=\"\",\n",
    "    client_secret=\"\",\n",
    ")\n",
    "neat = NeatSession(cognite_client, storage=\"memory\")"
   ]
  },
  {
   "cell_type": "code",
   "execution_count": 18,
   "metadata": {},
   "outputs": [
    {
     "name": "stderr",
     "output_type": "stream",
     "text": [
      "Extracting Asset relationships: 100%|██████████| 1/1 [00:00<00:00,  5.48it/s]\n",
      "Extracting TimeSeries relationships: 100%|██████████| 1/1 [00:00<00:00,  5.32it/s]\n",
      "Extracting data sets: 100%|██████████| 1/1 [00:00<00:00,  5.20it/s]\n"
     ]
    },
    {
     "data": {
      "text/html": [
       "<p>Success: Read Classic Graph</p>"
      ],
      "text/plain": [
       "[]"
      ]
     },
     "execution_count": 18,
     "metadata": {},
     "output_type": "execute_result"
    }
   ],
   "source": [
    "neat.read.cdf.classic.graph(root_asset_external_id=\"nitric_acid_plant\")"
   ]
  },
  {
   "cell_type": "code",
   "execution_count": 19,
   "metadata": {},
   "outputs": [
    {
     "data": {
      "text/html": [
       "<H2>Data Model</H2><br /><div>\n",
       "<style scoped>\n",
       "    .dataframe tbody tr th:only-of-type {\n",
       "        vertical-align: middle;\n",
       "    }\n",
       "\n",
       "    .dataframe tbody tr th {\n",
       "        vertical-align: top;\n",
       "    }\n",
       "\n",
       "    .dataframe thead th {\n",
       "        text-align: right;\n",
       "    }\n",
       "</style>\n",
       "<table border=\"1\" class=\"dataframe\">\n",
       "  <thead>\n",
       "    <tr style=\"text-align: right;\">\n",
       "      <th></th>\n",
       "      <th></th>\n",
       "    </tr>\n",
       "  </thead>\n",
       "  <tbody>\n",
       "    <tr>\n",
       "      <th>type</th>\n",
       "      <td>Logical Data Model</td>\n",
       "    </tr>\n",
       "    <tr>\n",
       "      <th>intended for</th>\n",
       "      <td>Information Architect</td>\n",
       "    </tr>\n",
       "    <tr>\n",
       "      <th>name</th>\n",
       "      <td>ClassicDataModel</td>\n",
       "    </tr>\n",
       "    <tr>\n",
       "      <th>external_id</th>\n",
       "      <td>ClassicDataModel</td>\n",
       "    </tr>\n",
       "    <tr>\n",
       "      <th>version</th>\n",
       "      <td>v1</td>\n",
       "    </tr>\n",
       "    <tr>\n",
       "      <th>classes</th>\n",
       "      <td>9</td>\n",
       "    </tr>\n",
       "    <tr>\n",
       "      <th>properties</th>\n",
       "      <td>71</td>\n",
       "    </tr>\n",
       "  </tbody>\n",
       "</table>\n",
       "</div><br /><H2>Instances</H2> <br /><strong>Overview</strong>:<ul><li>1 named graphs</strong></li><li>Total of 3 unique types</strong></li><li>38 instances in default graph</strong></li></ul><br /><strong>default graph</strong>:<div>\n",
       "<style scoped>\n",
       "    .dataframe tbody tr th:only-of-type {\n",
       "        vertical-align: middle;\n",
       "    }\n",
       "\n",
       "    .dataframe tbody tr th {\n",
       "        vertical-align: top;\n",
       "    }\n",
       "\n",
       "    .dataframe thead th {\n",
       "        text-align: right;\n",
       "    }\n",
       "</style>\n",
       "<table border=\"1\" class=\"dataframe\">\n",
       "  <thead>\n",
       "    <tr style=\"text-align: right;\">\n",
       "      <th></th>\n",
       "      <th>Type</th>\n",
       "      <th>Occurrence</th>\n",
       "    </tr>\n",
       "  </thead>\n",
       "  <tbody>\n",
       "    <tr>\n",
       "      <th>0</th>\n",
       "      <td>ClassicAsset</td>\n",
       "      <td>28</td>\n",
       "    </tr>\n",
       "    <tr>\n",
       "      <th>1</th>\n",
       "      <td>ClassicTimeSeries</td>\n",
       "      <td>9</td>\n",
       "    </tr>\n",
       "    <tr>\n",
       "      <th>2</th>\n",
       "      <td>ClassicDataSet</td>\n",
       "      <td>1</td>\n",
       "    </tr>\n",
       "  </tbody>\n",
       "</table>\n",
       "</div><br /><strong>Provenance</strong>:<ul><li>Initialize graph store as Memory</li><li>Extracted triples to named graph urn:x-rdflib:default using ClassicGraphExtractor</li><li>Extracted triples to named graph urn:x-rdflib:default using ClassicGraphExtractor</li><li>Extracted triples to named graph urn:x-rdflib:default using ClassicGraphExtractor</li><li>Extracted triples to named graph urn:x-rdflib:default using ClassicGraphExtractor</li><li>Extracted triples to named graph urn:x-rdflib:default using ClassicGraphExtractor</li><li>Extracted triples to named graph urn:x-rdflib:default using ClassicGraphExtractor</li><li>Extracted triples to named graph urn:x-rdflib:default using ClassicGraphExtractor</li><li>Extracted triples to named graph urn:x-rdflib:default using ClassicGraphExtractor</li><li>ConvertLiteral is a transformer that improve data typing of a literal value.</li><li>Converts a literal value to new entity</li></ul>"
      ],
      "text/plain": [
       "<cognite.neat._session._base.NeatSession at 0x2e339ddeb90>"
      ]
     },
     "execution_count": 19,
     "metadata": {},
     "output_type": "execute_result"
    }
   ],
   "source": [
    "neat"
   ]
  },
  {
   "cell_type": "code",
   "execution_count": 20,
   "metadata": {},
   "outputs": [
    {
     "name": "stdout",
     "output_type": "stream",
     "text": [
      "http_purl.org_cognite_neat_data-model_verified_logical_neat_space_ClassicDataModel_v1.html\n"
     ]
    },
    {
     "data": {
      "text/html": [
       "\n",
       "        <iframe\n",
       "            width=\"100%\"\n",
       "            height=\"750px\"\n",
       "            src=\"http_purl.org_cognite_neat_data-model_verified_logical_neat_space_ClassicDataModel_v1.html\"\n",
       "            frameborder=\"0\"\n",
       "            allowfullscreen\n",
       "            \n",
       "        ></iframe>\n",
       "        "
      ],
      "text/plain": [
       "<IPython.lib.display.IFrame at 0x2e33be93210>"
      ]
     },
     "execution_count": 20,
     "metadata": {},
     "output_type": "execute_result"
    }
   ],
   "source": [
    "neat.show.data_model()"
   ]
  },
  {
   "cell_type": "code",
   "execution_count": 21,
   "metadata": {},
   "outputs": [
    {
     "name": "stdout",
     "output_type": "stream",
     "text": [
      "Rules converted to dms.\n"
     ]
    },
    {
     "data": {
      "text/html": [
       "<p>Success: NEAT(verified,logical,neat_space,ClassicDataModel,v1) &#8594; NEAT(verified,physical,neat_space,ClassicDataModel,v1)</p>"
      ],
      "text/plain": [
       "[]"
      ]
     },
     "execution_count": 21,
     "metadata": {},
     "output_type": "execute_result"
    }
   ],
   "source": [
    "neat.convert()"
   ]
  },
  {
   "cell_type": "code",
   "execution_count": 22,
   "metadata": {},
   "outputs": [
    {
     "data": {
      "text/html": [
       "<p>Succeeded with warnings: NEAT(verified,physical,neat_space,ClassicDataModel,v1) &#8594; NEAT(verified,physical,neat_space,ClassicDataModel,v1)</p><br /><div>\n",
       "<style scoped>\n",
       "    .dataframe tbody tr th:only-of-type {\n",
       "        vertical-align: middle;\n",
       "    }\n",
       "\n",
       "    .dataframe tbody tr th {\n",
       "        vertical-align: top;\n",
       "    }\n",
       "\n",
       "    .dataframe thead th {\n",
       "        text-align: right;\n",
       "    }\n",
       "</style>\n",
       "<table border=\"1\" class=\"dataframe\">\n",
       "  <thead>\n",
       "    <tr style=\"text-align: right;\">\n",
       "      <th></th>\n",
       "      <th>count</th>\n",
       "    </tr>\n",
       "    <tr>\n",
       "      <th>NeatIssue</th>\n",
       "      <th></th>\n",
       "    </tr>\n",
       "  </thead>\n",
       "  <tbody>\n",
       "    <tr>\n",
       "      <th>PropertyOverwritingWarning</th>\n",
       "      <td>11</td>\n",
       "    </tr>\n",
       "    <tr>\n",
       "      <th>NeatValueWarning</th>\n",
       "      <td>9</td>\n",
       "    </tr>\n",
       "  </tbody>\n",
       "</table>\n",
       "</div><br />Hint: Use the .inspect.issues() for more details."
      ],
      "text/plain": [
       "[NeatValueWarning(value='PydanticDeprecatedSince20: The `copy` method is deprecated; use `model_copy` instead. See the docstring of `BaseModel.copy` for details about how to handle `include` and `exclude`. Deprecated in Pydantic V2.0 to be removed in V3.0. See Pydantic V2 Migration Guide at https://errors.pydantic.dev/2.10/migration/'),\n",
       " NeatValueWarning(value='PydanticDeprecatedSince20: The `copy` method is deprecated; use `model_copy` instead. See the docstring of `BaseModel.copy` for details about how to handle `include` and `exclude`. Deprecated in Pydantic V2.0 to be removed in V3.0. See Pydantic V2 Migration Guide at https://errors.pydantic.dev/2.10/migration/'),\n",
       " NeatValueWarning(value='PydanticDeprecatedSince20: The `copy` method is deprecated; use `model_copy` instead. See the docstring of `BaseModel.copy` for details about how to handle `include` and `exclude`. Deprecated in Pydantic V2.0 to be removed in V3.0. See Pydantic V2 Migration Guide at https://errors.pydantic.dev/2.10/migration/'),\n",
       " NeatValueWarning(value='PydanticDeprecatedSince20: The `copy` method is deprecated; use `model_copy` instead. See the docstring of `BaseModel.copy` for details about how to handle `include` and `exclude`. Deprecated in Pydantic V2.0 to be removed in V3.0. See Pydantic V2 Migration Guide at https://errors.pydantic.dev/2.10/migration/'),\n",
       " NeatValueWarning(value='PydanticDeprecatedSince20: The `copy` method is deprecated; use `model_copy` instead. See the docstring of `BaseModel.copy` for details about how to handle `include` and `exclude`. Deprecated in Pydantic V2.0 to be removed in V3.0. See Pydantic V2 Migration Guide at https://errors.pydantic.dev/2.10/migration/'),\n",
       " NeatValueWarning(value='PydanticDeprecatedSince20: The `copy` method is deprecated; use `model_copy` instead. See the docstring of `BaseModel.copy` for details about how to handle `include` and `exclude`. Deprecated in Pydantic V2.0 to be removed in V3.0. See Pydantic V2 Migration Guide at https://errors.pydantic.dev/2.10/migration/'),\n",
       " NeatValueWarning(value='PydanticDeprecatedSince20: The `copy` method is deprecated; use `model_copy` instead. See the docstring of `BaseModel.copy` for details about how to handle `include` and `exclude`. Deprecated in Pydantic V2.0 to be removed in V3.0. See Pydantic V2 Migration Guide at https://errors.pydantic.dev/2.10/migration/'),\n",
       " NeatValueWarning(value='PydanticDeprecatedSince20: The `copy` method is deprecated; use `model_copy` instead. See the docstring of `BaseModel.copy` for details about how to handle `include` and `exclude`. Deprecated in Pydantic V2.0 to be removed in V3.0. See Pydantic V2 Migration Guide at https://errors.pydantic.dev/2.10/migration/'),\n",
       " NeatValueWarning(value='PydanticDeprecatedSince20: The `copy` method is deprecated; use `model_copy` instead. See the docstring of `BaseModel.copy` for details about how to handle `include` and `exclude`. Deprecated in Pydantic V2.0 to be removed in V3.0. See Pydantic V2 Migration Guide at https://errors.pydantic.dev/2.10/migration/'),\n",
       " PropertyOverwritingWarning(identifier=ViewId(space='neat_space', external_id='NeatOrgAsset', version='v1'), resource_type='view', property_name='labels', overwriting=('Connection', 'Value Type')),\n",
       " PropertyOverwritingWarning(identifier=ViewId(space='neat_space', external_id='NeatOrgEvent', version='v1'), resource_type='view', property_name='assetIds', overwriting=('Connection',)),\n",
       " PropertyOverwritingWarning(identifier=ViewId(space='neat_space', external_id='NeatOrgFile', version='v1'), resource_type='view', property_name='assetIds', overwriting=('Connection',)),\n",
       " PropertyOverwritingWarning(identifier=ViewId(space='neat_space', external_id='NeatOrgFile', version='v1'), resource_type='view', property_name='labels', overwriting=('Connection', 'Value Type')),\n",
       " PropertyOverwritingWarning(identifier=ViewId(space='neat_space', external_id='NeatOrgFile', version='v1'), resource_type='view', property_name='sourceCreatedTime', overwriting=('Value Type',)),\n",
       " PropertyOverwritingWarning(identifier=ViewId(space='neat_space', external_id='NeatOrgFile', version='v1'), resource_type='view', property_name='sourceModifiedTime', overwriting=('Value Type',)),\n",
       " PropertyOverwritingWarning(identifier=ViewId(space='neat_space', external_id='NeatOrgTimeSeries', version='v1'), resource_type='view', property_name='assetId', overwriting=('Is List',)),\n",
       " PropertyOverwritingWarning(identifier=ViewId(space='neat_space', external_id='NeatOrgTimeSeries', version='v1'), resource_type='view', property_name='isStep', overwriting=('Nullable',)),\n",
       " PropertyOverwritingWarning(identifier=ViewId(space='neat_space', external_id='NeatOrgTimeSeries', version='v1'), resource_type='view', property_name='isString', overwriting=('Nullable', 'Value Type')),\n",
       " PropertyOverwritingWarning(identifier=ViewId(space='neat_space', external_id='NeatOrgTimeSeries', version='v1'), resource_type='view', property_name='securityCategories', overwriting=('Value Type',)),\n",
       " PropertyOverwritingWarning(identifier=ViewId(space='neat_space', external_id='NeatOrgTimeSeries', version='v1'), resource_type='view', property_name='unitExternalId', overwriting=('Value Type',))]"
      ]
     },
     "execution_count": 22,
     "metadata": {},
     "output_type": "execute_result"
    }
   ],
   "source": [
    "organiztion_name = \"NeatOrg\"\n",
    "neat.mapping.data_model.classic_to_core(organiztion_name)"
   ]
  },
  {
   "cell_type": "code",
   "execution_count": 23,
   "metadata": {},
   "outputs": [
    {
     "name": "stdout",
     "output_type": "stream",
     "text": [
      "http_purl.org_cognite_neat_data-model_verified_physical_neat_space_ClassicDataModel_v1.html\n"
     ]
    },
    {
     "data": {
      "text/html": [
       "\n",
       "        <iframe\n",
       "            width=\"100%\"\n",
       "            height=\"750px\"\n",
       "            src=\"http_purl.org_cognite_neat_data-model_verified_physical_neat_space_ClassicDataModel_v1.html\"\n",
       "            frameborder=\"0\"\n",
       "            allowfullscreen\n",
       "            \n",
       "        ></iframe>\n",
       "        "
      ],
      "text/plain": [
       "<IPython.lib.display.IFrame at 0x2e33bc7f090>"
      ]
     },
     "execution_count": 23,
     "metadata": {},
     "output_type": "execute_result"
    }
   ],
   "source": [
    "neat.show.data_model()"
   ]
  },
  {
   "cell_type": "code",
   "execution_count": 24,
   "metadata": {},
   "outputs": [
    {
     "data": {
      "text/html": [
       "<p>Success: NEAT(verified,physical,neat_space,ClassicDataModel,v1) &#8594; NEAT(verified,physical,wind_space,WindFarm,v1)</p>"
      ],
      "text/plain": [
       "[]"
      ]
     },
     "execution_count": 24,
     "metadata": {},
     "output_type": "execute_result"
    }
   ],
   "source": [
    "neat.set.data_model_id((\"wind_space\", \"WindFarm\", \"v1\"))"
   ]
  },
  {
   "cell_type": "code",
   "execution_count": 25,
   "metadata": {},
   "outputs": [
    {
     "name": "stdout",
     "output_type": "stream",
     "text": [
      "You can inspect the details with the .inspect.outcome.data_model(...) method.\n"
     ]
    },
    {
     "data": {
      "text/html": [
       "<style type=\"text/css\">\n",
       "</style>\n",
       "<table id=\"T_6d02c\">\n",
       "  <thead>\n",
       "    <tr>\n",
       "      <th class=\"blank level0\" >&nbsp;</th>\n",
       "      <th id=\"T_6d02c_level0_col0\" class=\"col_heading level0 col0\" >name</th>\n",
       "      <th id=\"T_6d02c_level0_col1\" class=\"col_heading level0 col1\" >unchanged</th>\n",
       "      <th id=\"T_6d02c_level0_col2\" class=\"col_heading level0 col2\" >failed_changed</th>\n",
       "      <th id=\"T_6d02c_level0_col3\" class=\"col_heading level0 col3\" >error_messages</th>\n",
       "      <th id=\"T_6d02c_level0_col4\" class=\"col_heading level0 col4\" >created</th>\n",
       "      <th id=\"T_6d02c_level0_col5\" class=\"col_heading level0 col5\" >deleted</th>\n",
       "    </tr>\n",
       "  </thead>\n",
       "  <tbody>\n",
       "    <tr>\n",
       "      <th id=\"T_6d02c_level0_row0\" class=\"row_heading level0 row0\" >0</th>\n",
       "      <td id=\"T_6d02c_row0_col0\" class=\"data row0 col0\" >spaces</td>\n",
       "      <td id=\"T_6d02c_row0_col1\" class=\"data row0 col1\" >1</td>\n",
       "      <td id=\"T_6d02c_row0_col2\" class=\"data row0 col2\" >0</td>\n",
       "      <td id=\"T_6d02c_row0_col3\" class=\"data row0 col3\" >0</td>\n",
       "      <td id=\"T_6d02c_row0_col4\" class=\"data row0 col4\" >0</td>\n",
       "      <td id=\"T_6d02c_row0_col5\" class=\"data row0 col5\" >0</td>\n",
       "    </tr>\n",
       "    <tr>\n",
       "      <th id=\"T_6d02c_level0_row1\" class=\"row_heading level0 row1\" >1</th>\n",
       "      <td id=\"T_6d02c_row1_col0\" class=\"data row1 col0\" >containers</td>\n",
       "      <td id=\"T_6d02c_row1_col1\" class=\"data row1 col1\" >9</td>\n",
       "      <td id=\"T_6d02c_row1_col2\" class=\"data row1 col2\" >1</td>\n",
       "      <td id=\"T_6d02c_row1_col3\" class=\"data row1 col3\" >1</td>\n",
       "      <td id=\"T_6d02c_row1_col4\" class=\"data row1 col4\" >0</td>\n",
       "      <td id=\"T_6d02c_row1_col5\" class=\"data row1 col5\" >0</td>\n",
       "    </tr>\n",
       "    <tr>\n",
       "      <th id=\"T_6d02c_level0_row2\" class=\"row_heading level0 row2\" >2</th>\n",
       "      <td id=\"T_6d02c_row2_col0\" class=\"data row2 col0\" >views</td>\n",
       "      <td id=\"T_6d02c_row2_col1\" class=\"data row2 col1\" >7</td>\n",
       "      <td id=\"T_6d02c_row2_col2\" class=\"data row2 col2\" >3</td>\n",
       "      <td id=\"T_6d02c_row2_col3\" class=\"data row2 col3\" >3</td>\n",
       "      <td id=\"T_6d02c_row2_col4\" class=\"data row2 col4\" >0</td>\n",
       "      <td id=\"T_6d02c_row2_col5\" class=\"data row2 col5\" >0</td>\n",
       "    </tr>\n",
       "    <tr>\n",
       "      <th id=\"T_6d02c_level0_row3\" class=\"row_heading level0 row3\" >3</th>\n",
       "      <td id=\"T_6d02c_row3_col0\" class=\"data row3 col0\" >data_models</td>\n",
       "      <td id=\"T_6d02c_row3_col1\" class=\"data row3 col1\" >0</td>\n",
       "      <td id=\"T_6d02c_row3_col2\" class=\"data row3 col2\" >0</td>\n",
       "      <td id=\"T_6d02c_row3_col3\" class=\"data row3 col3\" >0</td>\n",
       "      <td id=\"T_6d02c_row3_col4\" class=\"data row3 col4\" >1</td>\n",
       "      <td id=\"T_6d02c_row3_col5\" class=\"data row3 col5\" >1</td>\n",
       "    </tr>\n",
       "    <tr>\n",
       "      <th id=\"T_6d02c_level0_row4\" class=\"row_heading level0 row4\" >4</th>\n",
       "      <td id=\"T_6d02c_row4_col0\" class=\"data row4 col0\" >nodes</td>\n",
       "      <td id=\"T_6d02c_row4_col1\" class=\"data row4 col1\" >0</td>\n",
       "      <td id=\"T_6d02c_row4_col2\" class=\"data row4 col2\" >0</td>\n",
       "      <td id=\"T_6d02c_row4_col3\" class=\"data row4 col3\" >0</td>\n",
       "      <td id=\"T_6d02c_row4_col4\" class=\"data row4 col4\" >0</td>\n",
       "      <td id=\"T_6d02c_row4_col5\" class=\"data row4 col5\" >0</td>\n",
       "    </tr>\n",
       "  </tbody>\n",
       "</table>\n"
      ],
      "text/plain": [
       "[UploadResult(name='spaces', error_messages=[], issues=[], created=set(), upserted=set(), deleted=set(), changed=set(), unchanged={'wind_space'}, skipped=set(), failed_created=set(), failed_upserted=set(), failed_changed=set(), failed_deleted=set(), failed_items=[]),\n",
       " UploadResult(name='containers', error_messages=[\"Failed to update containers: Cannot change usedFor type for container 'wind_space:NeatOrgEquipment'. | code: 400 | X-Request-ID: 2619a248-5102-92a1-a320-7637b6dfbbe6 | cluster: az-eastus-1\\nThe API Failed to process some items.\\nSuccessful (2xx): []\\nUnknown (5xx): []\\nFailed (4xx): [wind_space:NeatOrgEquipment, ...]\"], issues=[], created=set(), upserted=set(), deleted=set(), changed=set(), unchanged={ContainerId(space='wind_space', external_id='ClassicSequence'), ContainerId(space='wind_space', external_id='ClassicRelationship'), ContainerId(space='wind_space', external_id='ClassicDataSet'), ContainerId(space='wind_space', external_id='ClassicFile'), ContainerId(space='wind_space', external_id='NeatOrgSourceSystem'), ContainerId(space='wind_space', external_id='ClassicAsset'), ContainerId(space='wind_space', external_id='ClassicTimeSeries'), ContainerId(space='wind_space', external_id='ClassicEvent'), ContainerId(space='wind_space', external_id='ClassicLabel')}, skipped=set(), failed_created=set(), failed_upserted=set(), failed_changed={ContainerId(space='wind_space', external_id='NeatOrgEquipment')}, failed_deleted=set(), failed_items=[]),\n",
       " UploadResult(name='views', error_messages=[\"Failed to update views: Cannot add property 'dataSetId' to view 'wind_space:NeatOrgAsset/v1' as the container 'wind_space:ClassicAsset' is not already mapped in this view version. | code: 400 | X-Request-ID: 900d548a-4e89-9624-94e8-1d0d93626837 | cluster: az-eastus-1\\nThe API Failed to process some items.\\nSuccessful (2xx): []\\nUnknown (5xx): []\\nFailed (4xx): [wind_space:NeatOrgAsset, ...]\", \"Failed to update views: Cannot add property 'classicExternalId' to view 'wind_space:NeatOrgTimeSeries/v1' as the container 'wind_space:ClassicTimeSeries' is not already mapped in this view version. | code: 400 | X-Request-ID: e593c9de-11de-92ac-841a-3ef0c79ef9a5 | cluster: az-eastus-1\\nThe API Failed to process some items.\\nSuccessful (2xx): []\\nUnknown (5xx): []\\nFailed (4xx): [wind_space:NeatOrgTimeSeries, ...]\", \"Failed to update views: Cannot update view 'wind_space:NeatOrgEquipment/v1', property 'activities' has changed source from 'wind_space:NeatOrgActivity/v1' to 'wind_space:NeatOrgEvent/v1'. Change the version to make changes. | code: 400 | X-Request-ID: 565931f9-9cc7-9c8d-861f-84b4eef1df24 | cluster: az-eastus-1\\nThe API Failed to process some items.\\nSuccessful (2xx): []\\nUnknown (5xx): []\\nFailed (4xx): [wind_space:NeatOrgEquipment, ...]\"], issues=[], created=set(), upserted=set(), deleted=set(), changed=set(), unchanged={ViewId(space='wind_space', external_id='NeatOrgEvent', version='v1'), ViewId(space='wind_space', external_id='NeatOrgFile', version='v1'), ViewId(space='wind_space', external_id='NeatOrgDataSet', version='v1'), ViewId(space='wind_space', external_id='NeatOrgRelationship', version='v1'), ViewId(space='wind_space', external_id='NeatOrgLabel', version='v1'), ViewId(space='wind_space', external_id='NeatOrgSequence', version='v1'), ViewId(space='wind_space', external_id='NeatOrgSourceSystem', version='v1')}, skipped=set(), failed_created=set(), failed_upserted=set(), failed_changed={ViewId(space='wind_space', external_id='NeatOrgTimeSeries', version='v1'), ViewId(space='wind_space', external_id='NeatOrgAsset', version='v1'), ViewId(space='wind_space', external_id='NeatOrgEquipment', version='v1')}, failed_deleted=set(), failed_items=[]),\n",
       " UploadResult(name='data_models', error_messages=[], issues=[], created={DataModelId(space='wind_space', external_id='WindFarm', version='v1')}, upserted=set(), deleted={DataModelId(space='wind_space', external_id='WindFarm', version='v1')}, changed=set(), unchanged=set(), skipped=set(), failed_created=set(), failed_upserted=set(), failed_changed=set(), failed_deleted=set(), failed_items=[]),\n",
       " UploadResult(name='nodes', error_messages=[], issues=[], created=set(), upserted=set(), deleted=set(), changed=set(), unchanged=set(), skipped=set(), failed_created=set(), failed_upserted=set(), failed_changed=set(), failed_deleted=set(), failed_items=[])]"
      ]
     },
     "execution_count": 25,
     "metadata": {},
     "output_type": "execute_result"
    }
   ],
   "source": [
    "neat.to.cdf.data_model()"
   ]
  },
  {
   "cell_type": "code",
   "execution_count": 26,
   "metadata": {},
   "outputs": [
    {
     "name": "stdout",
     "output_type": "stream",
     "text": [
      "You can inspect the details with the .inspect.outcome.instances(...) method.\n"
     ]
    },
    {
     "data": {
      "text/html": [
       "<style type=\"text/css\">\n",
       "</style>\n",
       "<table id=\"T_ce45e\">\n",
       "  <thead>\n",
       "    <tr>\n",
       "      <th class=\"blank level0\" >&nbsp;</th>\n",
       "      <th id=\"T_ce45e_level0_col0\" class=\"col_heading level0 col0\" >name</th>\n",
       "      <th id=\"T_ce45e_level0_col1\" class=\"col_heading level0 col1\" >created</th>\n",
       "    </tr>\n",
       "  </thead>\n",
       "  <tbody>\n",
       "    <tr>\n",
       "      <th id=\"T_ce45e_level0_row0\" class=\"row_heading level0 row0\" >0</th>\n",
       "      <td id=\"T_ce45e_row0_col0\" class=\"data row0 col0\" >NeatOrgAsset</td>\n",
       "      <td id=\"T_ce45e_row0_col1\" class=\"data row0 col1\" >55</td>\n",
       "    </tr>\n",
       "    <tr>\n",
       "      <th id=\"T_ce45e_level0_row1\" class=\"row_heading level0 row1\" >1</th>\n",
       "      <td id=\"T_ce45e_row1_col0\" class=\"data row1 col0\" >NeatOrgTimeSeries</td>\n",
       "      <td id=\"T_ce45e_row1_col1\" class=\"data row1 col1\" >9</td>\n",
       "    </tr>\n",
       "    <tr>\n",
       "      <th id=\"T_ce45e_level0_row2\" class=\"row_heading level0 row2\" >2</th>\n",
       "      <td id=\"T_ce45e_row2_col0\" class=\"data row2 col0\" >NeatOrgDataSet</td>\n",
       "      <td id=\"T_ce45e_row2_col1\" class=\"data row2 col1\" >1</td>\n",
       "    </tr>\n",
       "  </tbody>\n",
       "</table>\n"
      ],
      "text/plain": [
       "[UploadResult(name='NeatOrgAsset', error_messages=[], issues=[], created={EdgeId(space='wind_space_instances', external_id='Z_3eMyMv-3GdIEBO4dLTjASMYpDA96wA-fO_TNTwoBg='), EdgeId(space='wind_space_instances', external_id='dZmfXy7gpR5TOHyDYTeNY2-LlTuSd0NUEbRFoTD2jg8='), NodeId(space='wind_space_instances', external_id='7923840855394782'), NodeId(space='wind_space_instances', external_id='1520143745962126'), NodeId(space='wind_space_instances', external_id='2932937655487751'), NodeId(space='wind_space_instances', external_id='8489605797674977'), EdgeId(space='wind_space_instances', external_id='nersP8tLKf6Ap8NZLAXfP4rAIOV-dTUcyUKljhkzn1A='), EdgeId(space='wind_space_instances', external_id='ANa53M-9RMMdI3yVs7jfYNfp2zkDXNc9u4AyABso-iM='), NodeId(space='wind_space_instances', external_id='1395409615741743'), EdgeId(space='wind_space_instances', external_id='prL9K0Mari2eKSEiabiIOgBakObcPOTPt1EFvYEyDY0='), NodeId(space='wind_space_instances', external_id='7729818544417391'), NodeId(space='wind_space_instances', external_id='8078792863745408'), EdgeId(space='wind_space_instances', external_id='GcS5hCZBU7eCqDHj8b46xiTisMAOwVsfSASr8G-P7JE='), NodeId(space='wind_space_instances', external_id='5122714748002034'), NodeId(space='wind_space_instances', external_id='5295120717508718'), NodeId(space='wind_space_instances', external_id='675081602481003'), NodeId(space='wind_space_instances', external_id='7182816312105578'), EdgeId(space='wind_space_instances', external_id='M-YcLD-SmPd-7DVDEvjc_bOKE2vzgiWv7RhjxdR3s74='), EdgeId(space='wind_space_instances', external_id='CaYqVo6enjn51UCgxnjzWNYpKhDGD8zmahoD366Egck='), EdgeId(space='wind_space_instances', external_id='Icfqu1TG13o1p05x-ddhuxbLNuMqyqy1Rqrd6MThItg='), NodeId(space='wind_space_instances', external_id='7869325733941110'), NodeId(space='wind_space_instances', external_id='1457469633079757'), NodeId(space='wind_space_instances', external_id='73585474155939'), NodeId(space='wind_space_instances', external_id='6309687115229739'), EdgeId(space='wind_space_instances', external_id='2LE9MYJb5WcLPkd7tywdpEi00bx57wnGUry15UxX488='), NodeId(space='wind_space_instances', external_id='6813999533312305'), EdgeId(space='wind_space_instances', external_id='Xq-gZD2VD3XI4iu9bbGmPCSdbd4DrsNI5qh_NTi_WBQ='), EdgeId(space='wind_space_instances', external_id='JjwAkM9X7_SKEmbbLYXTXLLRnMu3mmGL-tr8XQt7DiI='), NodeId(space='wind_space_instances', external_id='8702985395203181'), NodeId(space='wind_space_instances', external_id='5306044072786028'), NodeId(space='wind_space_instances', external_id='3432973404556071'), EdgeId(space='wind_space_instances', external_id='nW0JkcwCNVPdFn2GESTCwK2ZTkENOet9Bk2OCnivv3c='), EdgeId(space='wind_space_instances', external_id='RwbNY1cHOg5kHAnvBFoVnx3ZVP5OSneiaTdhJaRbalg='), NodeId(space='wind_space_instances', external_id='1663277366229909'), NodeId(space='wind_space_instances', external_id='3828874797063881'), NodeId(space='wind_space_instances', external_id='7882721013859054'), EdgeId(space='wind_space_instances', external_id='WICnl2tgY6mo2Un5nfZ57VdnkSA_52UP14Fv97Cj5lQ='), EdgeId(space='wind_space_instances', external_id='VBLlT-tUohfT6USylo5OifBGKr5wWqoXLqIa0elaItY='), EdgeId(space='wind_space_instances', external_id='zI2Pol9bN3YEGsQJLKXg7FomBSeTKC369JDMswTadkE='), NodeId(space='wind_space_instances', external_id='402543685711459'), NodeId(space='wind_space_instances', external_id='7792932297906016'), NodeId(space='wind_space_instances', external_id='4255285961152391'), EdgeId(space='wind_space_instances', external_id='qhyzKLRAx6C4JX74xq5Jik3fhpPs5eW_J4IaOYnN8RI='), EdgeId(space='wind_space_instances', external_id='HYHnRmWNe7sKWilDf42CXHjc2uwD9hf6dn55n0MJczo='), EdgeId(space='wind_space_instances', external_id='vQP9L9v4Q8fPxLdT24RlMvTVWEtEUZouQEbDlaHfsGs='), NodeId(space='wind_space_instances', external_id='830438472125231'), EdgeId(space='wind_space_instances', external_id='P9YeCQEQ-OqYmNMHjVzC2XssjPPZv1nRm1ENQzMrqjQ='), NodeId(space='wind_space_instances', external_id='6793766133819121'), EdgeId(space='wind_space_instances', external_id='G9zRkcjAbKR2GXgWFY62RTj-HIoedriheS8i9UcW6Do='), EdgeId(space='wind_space_instances', external_id='2CxlmTZtCzfrkkyiltR-MGDvZaODpUajIOOhYMZm9l4='), EdgeId(space='wind_space_instances', external_id='hJaHHlqxsv6CX-7LdZaDlVWV_i4vb8TlqWNanffReuE='), NodeId(space='wind_space_instances', external_id='7629521275898651'), EdgeId(space='wind_space_instances', external_id='gqi09JYb3dW-ENSD-DIxmkimqqmaJ-JqLM9Xg_21RGM='), EdgeId(space='wind_space_instances', external_id='A5H1TDPow-yJ00NDVLocFGRst4yXOQgPC4Qa-CenRhA='), EdgeId(space='wind_space_instances', external_id='d-g8euOOz0n1dgZ1eYND2yZ9QOOL3fKMnMieqOJfsMw=')}, upserted=set(), deleted=set(), changed=set(), unchanged=set(), skipped=set(), failed_created=set(), failed_upserted=set(), failed_changed=set(), failed_deleted=set(), failed_items=[]),\n",
       " UploadResult(name='NeatOrgTimeSeries', error_messages=[], issues=[], created={NodeId(space='wind_space_instances', external_id='5165172160690283'), NodeId(space='wind_space_instances', external_id='3803760446428428'), NodeId(space='wind_space_instances', external_id='8522310974107564'), NodeId(space='wind_space_instances', external_id='7632992895558236'), NodeId(space='wind_space_instances', external_id='4393930662235623'), NodeId(space='wind_space_instances', external_id='729155870255020'), NodeId(space='wind_space_instances', external_id='1001912968564819'), NodeId(space='wind_space_instances', external_id='2093711967215357'), NodeId(space='wind_space_instances', external_id='8639658910756400')}, upserted=set(), deleted=set(), changed=set(), unchanged=set(), skipped=set(), failed_created=set(), failed_upserted=set(), failed_changed=set(), failed_deleted=set(), failed_items=[]),\n",
       " UploadResult(name='NeatOrgDataSet', error_messages=[], issues=[], created={NodeId(space='wind_space_instances', external_id='4312198522998178')}, upserted=set(), deleted=set(), changed=set(), unchanged=set(), skipped=set(), failed_created=set(), failed_upserted=set(), failed_changed=set(), failed_deleted=set(), failed_items=[])]"
      ]
     },
     "execution_count": 26,
     "metadata": {},
     "output_type": "execute_result"
    }
   ],
   "source": [
    "neat.to.cdf.instances()"
   ]
  },
  {
   "cell_type": "code",
   "execution_count": null,
   "metadata": {},
   "outputs": [],
   "source": []
  }
 ],
 "metadata": {
  "kernelspec": {
   "display_name": "Python 3",
   "language": "python",
   "name": "python3"
  },
  "language_info": {
   "codemirror_mode": {
    "name": "ipython",
    "version": 3
   },
   "file_extension": ".py",
   "mimetype": "text/x-python",
   "name": "python",
   "nbconvert_exporter": "python",
   "pygments_lexer": "ipython3",
   "version": "3.11.5"
  }
 },
 "nbformat": 4,
 "nbformat_minor": 2
}

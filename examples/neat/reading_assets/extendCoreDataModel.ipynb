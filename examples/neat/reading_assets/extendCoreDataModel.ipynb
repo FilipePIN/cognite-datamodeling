{
 "cells": [
  {
   "cell_type": "code",
   "execution_count": null,
   "metadata": {},
   "outputs": [
    {
     "name": "stdout",
     "output_type": "stream",
     "text": [
      "For Neat to improve, we need to collect usage information. You acknowledge and agree that neat may collect usage information.To remove this message run 'neat.opt.in_() or to stop collecting usage information run 'neat.opt.out()'.\n"
     ]
    }
   ],
   "source": [
    "from cognite.client import CogniteClient\n",
    "from cognite.neat import NeatSession\n",
    "\n",
    "cognite_client = CogniteClient.default_oauth_client_credentials(\n",
    "    project=\"\",\n",
    "    cdf_cluster=\"\",\n",
    "    tenant_id=\"\",\n",
    "    client_id=\"\",\n",
    "    client_secret=\"\",\n",
    ")\n",
    "neat = NeatSession(cognite_client)"
   ]
  },
  {
   "cell_type": "code",
   "execution_count": 29,
   "metadata": {},
   "outputs": [
    {
     "data": {
      "text/html": [
       "<p>Succeeded with warnings: Read NEAT(verified,physical,cdf_cdm,CogniteCore,v1)</p><br /><div>\n",
       "<style scoped>\n",
       "    .dataframe tbody tr th:only-of-type {\n",
       "        vertical-align: middle;\n",
       "    }\n",
       "\n",
       "    .dataframe tbody tr th {\n",
       "        vertical-align: top;\n",
       "    }\n",
       "\n",
       "    .dataframe thead th {\n",
       "        text-align: right;\n",
       "    }\n",
       "</style>\n",
       "<table border=\"1\" class=\"dataframe\">\n",
       "  <thead>\n",
       "    <tr style=\"text-align: right;\">\n",
       "      <th></th>\n",
       "      <th>count</th>\n",
       "    </tr>\n",
       "    <tr>\n",
       "      <th>NeatIssue</th>\n",
       "      <th></th>\n",
       "    </tr>\n",
       "  </thead>\n",
       "  <tbody>\n",
       "    <tr>\n",
       "      <th>NotNeatSupportedFilterWarning</th>\n",
       "      <td>7</td>\n",
       "    </tr>\n",
       "  </tbody>\n",
       "</table>\n",
       "</div><br />Hint: Use the .inspect.issues() for more details."
      ],
      "text/plain": [
       "[NotNeatSupportedFilterWarning(view_id=ViewId(space='cdf_cdm', external_id='Cognite360ImageModel', version='v1')),\n",
       " NotNeatSupportedFilterWarning(view_id=ViewId(space='cdf_cdm', external_id='Cognite360ImageCollection', version='v1')),\n",
       " NotNeatSupportedFilterWarning(view_id=ViewId(space='cdf_cdm', external_id='CogniteCADRevision', version='v1')),\n",
       " NotNeatSupportedFilterWarning(view_id=ViewId(space='cdf_cdm', external_id='CognitePointCloudModel', version='v1')),\n",
       " NotNeatSupportedFilterWarning(view_id=ViewId(space='cdf_cdm', external_id='Cognite360ImageStation', version='v1')),\n",
       " NotNeatSupportedFilterWarning(view_id=ViewId(space='cdf_cdm', external_id='CognitePointCloudRevision', version='v1')),\n",
       " NotNeatSupportedFilterWarning(view_id=ViewId(space='cdf_cdm', external_id='CogniteCADModel', version='v1'))]"
      ]
     },
     "execution_count": 29,
     "metadata": {},
     "output_type": "execute_result"
    }
   ],
   "source": [
    "#extend the core data model through examples\n",
    "neat.read.examples.core_data_model()"
   ]
  },
  {
   "cell_type": "code",
   "execution_count": 30,
   "metadata": {},
   "outputs": [
    {
     "data": {
      "text/html": [
       "<H2>Data Model</H2><br /><div>\n",
       "<style scoped>\n",
       "    .dataframe tbody tr th:only-of-type {\n",
       "        vertical-align: middle;\n",
       "    }\n",
       "\n",
       "    .dataframe tbody tr th {\n",
       "        vertical-align: top;\n",
       "    }\n",
       "\n",
       "    .dataframe thead th {\n",
       "        text-align: right;\n",
       "    }\n",
       "</style>\n",
       "<table border=\"1\" class=\"dataframe\">\n",
       "  <thead>\n",
       "    <tr style=\"text-align: right;\">\n",
       "      <th></th>\n",
       "      <th></th>\n",
       "    </tr>\n",
       "  </thead>\n",
       "  <tbody>\n",
       "    <tr>\n",
       "      <th>aspect</th>\n",
       "      <td>physical</td>\n",
       "    </tr>\n",
       "    <tr>\n",
       "      <th>intended for</th>\n",
       "      <td>DMS Architect</td>\n",
       "    </tr>\n",
       "    <tr>\n",
       "      <th>name</th>\n",
       "      <td>Cognite core data model</td>\n",
       "    </tr>\n",
       "    <tr>\n",
       "      <th>space</th>\n",
       "      <td>cdf_cdm</td>\n",
       "    </tr>\n",
       "    <tr>\n",
       "      <th>external_id</th>\n",
       "      <td>CogniteCore</td>\n",
       "    </tr>\n",
       "    <tr>\n",
       "      <th>version</th>\n",
       "      <td>v1</td>\n",
       "    </tr>\n",
       "    <tr>\n",
       "      <th>views</th>\n",
       "      <td>33</td>\n",
       "    </tr>\n",
       "    <tr>\n",
       "      <th>containers</th>\n",
       "      <td>29</td>\n",
       "    </tr>\n",
       "    <tr>\n",
       "      <th>properties</th>\n",
       "      <td>141</td>\n",
       "    </tr>\n",
       "  </tbody>\n",
       "</table>\n",
       "</div>"
      ],
      "text/plain": [
       "<cognite.neat._session._base.NeatSession at 0x2354f628310>"
      ]
     },
     "execution_count": 30,
     "metadata": {},
     "output_type": "execute_result"
    }
   ],
   "source": [
    "neat"
   ]
  },
  {
   "cell_type": "code",
   "execution_count": null,
   "metadata": {},
   "outputs": [],
   "source": [
    "neat.show.data_model()"
   ]
  },
  {
   "cell_type": "code",
   "execution_count": null,
   "metadata": {},
   "outputs": [],
   "source": [
    "neat.show.data_model.implements()"
   ]
  },
  {
   "cell_type": "code",
   "execution_count": 31,
   "metadata": {},
   "outputs": [
    {
     "data": {
      "text/html": [
       "<pre style=\"white-space:pre;overflow-x:auto;line-height:normal;font-family:Menlo,'DejaVu Sans Mono',consolas,'Courier New',monospace\">Subset to <span style=\"color: #008080; text-decoration-color: #008080; font-weight: bold\">8</span> concepts.\n",
       "</pre>\n"
      ],
      "text/plain": [
       "Subset to \u001b[1;36m8\u001b[0m concepts.\n"
      ]
     },
     "metadata": {},
     "output_type": "display_data"
    },
    {
     "data": {
      "text/html": [
       "<pre style=\"white-space:pre;overflow-x:auto;line-height:normal;font-family:Menlo,'DejaVu Sans Mono',consolas,'Courier New',monospace\"><span style=\"color: #ff00ff; text-decoration-color: #ff00ff; font-weight: bold\">[WARNING]</span> Alpha feature <span style=\"color: #008000; text-decoration-color: #008000\">'data_model_subsetting'</span> is subject to change without notice\n",
       "</pre>\n"
      ],
      "text/plain": [
       "\u001b[1;95m[\u001b[0m\u001b[1;95mWARNING\u001b[0m\u001b[1;95m]\u001b[0m Alpha feature \u001b[32m'data_model_subsetting'\u001b[0m is subject to change without notice\n"
      ]
     },
     "metadata": {},
     "output_type": "display_data"
    },
    {
     "data": {
      "text/html": [
       "<p>Success: NEAT(verified,physical,cdf_cdm,CogniteCore,v1) &#8594; NEAT(verified,physical,cdf_cdm,CogniteCore,v1)</p>"
      ],
      "text/plain": [
       "[]"
      ]
     },
     "execution_count": 31,
     "metadata": {},
     "output_type": "execute_result"
    }
   ],
   "source": [
    "#Since we do not need all these concepts, we will select only a subset of them to create a wind farm data model. To do this, we will select the following core concepts:\n",
    "\n",
    "#CogniteAsset\n",
    "#CogniteEquipment\n",
    "#CogniteTimeSeries\n",
    "#CogniteActivity\n",
    "\n",
    "neat.subset.data_model([\"CogniteAsset\", \"CogniteEquipment\", \"CogniteTimeSeries\", \"CogniteActivity\"])"
   ]
  },
  {
   "cell_type": "code",
   "execution_count": null,
   "metadata": {},
   "outputs": [],
   "source": [
    "neat.show.data_model()"
   ]
  },
  {
   "cell_type": "code",
   "execution_count": null,
   "metadata": {},
   "outputs": [],
   "source": [
    "neat.show.data_model.implements()"
   ]
  },
  {
   "cell_type": "code",
   "execution_count": 32,
   "metadata": {},
   "outputs": [
    {
     "data": {
      "text/html": [
       "<p>Success: NEAT(verified,physical,cdf_cdm,CogniteCore,v1) &#8594; NEAT(verified,physical,wind_space-02,WindFarm,v1)</p>"
      ],
      "text/plain": [
       "[]"
      ]
     },
     "execution_count": 32,
     "metadata": {},
     "output_type": "execute_result"
    }
   ],
   "source": [
    "# Next we will turn this reduce CDM into enterprise data model that we will further edit in Excel to build up our wind farm data model. \n",
    "# We achieve this by calling method\n",
    "neat.create.enterprise_model(data_model_id=(\"wind_space-02\", \"WindFarm\", \"v1\"), org_name=\"NeatOrg\")"
   ]
  },
  {
   "cell_type": "code",
   "execution_count": 33,
   "metadata": {},
   "outputs": [],
   "source": [
    "# Let's export data model to Excel:\n",
    "neat.to.excel(\"wind-farm-data-model.xlsx\")"
   ]
  },
  {
   "cell_type": "code",
   "execution_count": 34,
   "metadata": {},
   "outputs": [
    {
     "data": {
      "text/html": [
       "<pre style=\"white-space:pre;overflow-x:auto;line-height:normal;font-family:Menlo,'DejaVu Sans Mono',consolas,'Courier New',monospace\"><span style=\"color: #800000; text-decoration-color: #800000; font-weight: bold\">[ERROR]</span> NeatValueError: The source of the imported rules is not in the provenance. Import will be skipped. Start a \n",
       "new NEAT session and import the data model there.\n",
       "</pre>\n"
      ],
      "text/plain": [
       "\u001b[1;31m[\u001b[0m\u001b[1;31mERROR\u001b[0m\u001b[1;31m]\u001b[0m NeatValueError: The source of the imported rules is not in the provenance. Import will be skipped. Start a \n",
       "new NEAT session and import the data model there.\n"
      ]
     },
     "metadata": {},
     "output_type": "display_data"
    }
   ],
   "source": [
    "# After manual changes in the excel, We will read in manual edited Excel file into NeatSession\n",
    "neat.read.excel(\"wind-farm-data-model-manual-edited.xlsx\", enable_manual_edit=True)"
   ]
  },
  {
   "cell_type": "code",
   "execution_count": null,
   "metadata": {},
   "outputs": [],
   "source": [
    "neat.show.data_model.provenance()\n",
    "neat.show.data_model()\n",
    "neat.show.data_model.implements()"
   ]
  },
  {
   "cell_type": "code",
   "execution_count": 8,
   "metadata": {},
   "outputs": [
    {
     "name": "stdout",
     "output_type": "stream",
     "text": [
      "You can inspect the details with the .inspect.outcome.data_model(...) method.\n"
     ]
    },
    {
     "data": {
      "text/html": [
       "<style type=\"text/css\">\n",
       "</style>\n",
       "<table id=\"T_87adf\">\n",
       "  <thead>\n",
       "    <tr>\n",
       "      <th class=\"blank level0\" >&nbsp;</th>\n",
       "      <th id=\"T_87adf_level0_col0\" class=\"col_heading level0 col0\" >name</th>\n",
       "      <th id=\"T_87adf_level0_col1\" class=\"col_heading level0 col1\" >unchanged</th>\n",
       "      <th id=\"T_87adf_level0_col2\" class=\"col_heading level0 col2\" >changed</th>\n",
       "    </tr>\n",
       "  </thead>\n",
       "  <tbody>\n",
       "    <tr>\n",
       "      <th id=\"T_87adf_level0_row0\" class=\"row_heading level0 row0\" >0</th>\n",
       "      <td id=\"T_87adf_row0_col0\" class=\"data row0 col0\" >spaces</td>\n",
       "      <td id=\"T_87adf_row0_col1\" class=\"data row0 col1\" >1</td>\n",
       "      <td id=\"T_87adf_row0_col2\" class=\"data row0 col2\" >0</td>\n",
       "    </tr>\n",
       "    <tr>\n",
       "      <th id=\"T_87adf_level0_row1\" class=\"row_heading level0 row1\" >1</th>\n",
       "      <td id=\"T_87adf_row1_col0\" class=\"data row1 col0\" >containers</td>\n",
       "      <td id=\"T_87adf_row1_col1\" class=\"data row1 col1\" >9</td>\n",
       "      <td id=\"T_87adf_row1_col2\" class=\"data row1 col2\" >0</td>\n",
       "    </tr>\n",
       "    <tr>\n",
       "      <th id=\"T_87adf_level0_row2\" class=\"row_heading level0 row2\" >2</th>\n",
       "      <td id=\"T_87adf_row2_col0\" class=\"data row2 col0\" >views</td>\n",
       "      <td id=\"T_87adf_row2_col1\" class=\"data row2 col1\" >9</td>\n",
       "      <td id=\"T_87adf_row2_col2\" class=\"data row2 col2\" >0</td>\n",
       "    </tr>\n",
       "    <tr>\n",
       "      <th id=\"T_87adf_level0_row3\" class=\"row_heading level0 row3\" >3</th>\n",
       "      <td id=\"T_87adf_row3_col0\" class=\"data row3 col0\" >data_models</td>\n",
       "      <td id=\"T_87adf_row3_col1\" class=\"data row3 col1\" >0</td>\n",
       "      <td id=\"T_87adf_row3_col2\" class=\"data row3 col2\" >1</td>\n",
       "    </tr>\n",
       "    <tr>\n",
       "      <th id=\"T_87adf_level0_row4\" class=\"row_heading level0 row4\" >4</th>\n",
       "      <td id=\"T_87adf_row4_col0\" class=\"data row4 col0\" >nodes</td>\n",
       "      <td id=\"T_87adf_row4_col1\" class=\"data row4 col1\" >0</td>\n",
       "      <td id=\"T_87adf_row4_col2\" class=\"data row4 col2\" >0</td>\n",
       "    </tr>\n",
       "  </tbody>\n",
       "</table>\n"
      ],
      "text/plain": [
       "[UploadResult(name='spaces', error_messages=[], issues=[], created=set(), upserted=set(), deleted=set(), changed=set(), unchanged={'wind_space'}, skipped=set(), failed_created=set(), failed_upserted=set(), failed_changed=set(), failed_deleted=set(), failed_items=[]),\n",
       " UploadResult(name='containers', error_messages=[], issues=[], created=set(), upserted=set(), deleted=set(), changed=set(), unchanged={ContainerId(space='wind_space', external_id='WindTurbine'), ContainerId(space='wind_space', external_id='NeatOrgActivity'), ContainerId(space='wind_space', external_id='Location'), ContainerId(space='wind_space', external_id='MetMast'), ContainerId(space='wind_space', external_id='NeatOrgEquipment'), ContainerId(space='wind_space', external_id='NeatOrgAsset'), ContainerId(space='wind_space', external_id='NeatOrgTimeSeries'), ContainerId(space='wind_space', external_id='Substation'), ContainerId(space='wind_space', external_id='WindFarm')}, skipped=set(), failed_created=set(), failed_upserted=set(), failed_changed=set(), failed_deleted=set(), failed_items=[]),\n",
       " UploadResult(name='views', error_messages=[], issues=[], created=set(), upserted=set(), deleted=set(), changed=set(), unchanged={ViewId(space='wind_space', external_id='NeatOrgAsset', version='v1'), ViewId(space='wind_space', external_id='Location', version='v1'), ViewId(space='wind_space', external_id='NeatOrgTimeSeries', version='v1'), ViewId(space='wind_space', external_id='Substation', version='v1'), ViewId(space='wind_space', external_id='WindTurbine', version='v1'), ViewId(space='wind_space', external_id='WindFarm', version='v1'), ViewId(space='wind_space', external_id='NeatOrgActivity', version='v1'), ViewId(space='wind_space', external_id='MetMast', version='v1'), ViewId(space='wind_space', external_id='NeatOrgEquipment', version='v1')}, skipped=set(), failed_created=set(), failed_upserted=set(), failed_changed=set(), failed_deleted=set(), failed_items=[]),\n",
       " UploadResult(name='data_models', error_messages=[], issues=[], created=set(), upserted=set(), deleted=set(), changed={DataModelId(space='wind_space', external_id='WindFarm', version='v1')}, unchanged=set(), skipped=set(), failed_created=set(), failed_upserted=set(), failed_changed=set(), failed_deleted=set(), failed_items=[]),\n",
       " UploadResult(name='nodes', error_messages=[], issues=[], created=set(), upserted=set(), deleted=set(), changed=set(), unchanged=set(), skipped=set(), failed_created=set(), failed_upserted=set(), failed_changed=set(), failed_deleted=set(), failed_items=[])]"
      ]
     },
     "execution_count": 8,
     "metadata": {},
     "output_type": "execute_result"
    }
   ],
   "source": [
    "# Finally push to CDF\n",
    "neat.to.cdf.data_model()"
   ]
  },
  {
   "cell_type": "code",
   "execution_count": null,
   "metadata": {},
   "outputs": [],
   "source": [
    "neat.read.cdf.classic.graph(root_asset_external_id=\"nitric_acid_plant\")"
   ]
  },
  {
   "cell_type": "code",
   "execution_count": null,
   "metadata": {},
   "outputs": [],
   "source": [
    "neat.to.cdf.instances()"
   ]
  }
 ],
 "metadata": {
  "kernelspec": {
   "display_name": "Python 3",
   "language": "python",
   "name": "python3"
  },
  "language_info": {
   "codemirror_mode": {
    "name": "ipython",
    "version": 3
   },
   "file_extension": ".py",
   "mimetype": "text/x-python",
   "name": "python",
   "nbconvert_exporter": "python",
   "pygments_lexer": "ipython3",
   "version": "3.11.5"
  }
 },
 "nbformat": 4,
 "nbformat_minor": 2
}

{
 "cells": [
  {
   "cell_type": "code",
   "execution_count": 160,
   "metadata": {},
   "outputs": [],
   "source": [
    "from cognite.neat import NeatSession\n",
    "from cognite.client import CogniteClient"
   ]
  },
  {
   "cell_type": "code",
   "execution_count": null,
   "metadata": {},
   "outputs": [],
   "source": [
    "client = CogniteClient.default_oauth_client_credentials(\n",
    "    project=\"\",\n",
    "    cdf_cluster=\"\",\n",
    "    tenant_id=\"\",\n",
    "    client_id=\"\",\n",
    "    client_secret=\"\",\n",
    ")"
   ]
  },
  {
   "cell_type": "code",
   "execution_count": 162,
   "metadata": {},
   "outputs": [
    {
     "name": "stdout",
     "output_type": "stream",
     "text": [
      "For Neat to improve, we need to collect usage information. You acknowledge and agree that neat may collect usage information.To remove this message run 'neat.opt.in_() or to stop collecting usage information run 'neat.opt.out()'.\n"
     ]
    }
   ],
   "source": [
    "neat = NeatSession(client)"
   ]
  },
  {
   "cell_type": "code",
   "execution_count": 163,
   "metadata": {},
   "outputs": [
    {
     "data": {
      "text/plain": [
       "'0.117.10'"
      ]
     },
     "execution_count": 163,
     "metadata": {},
     "output_type": "execute_result"
    }
   ],
   "source": [
    "neat.version"
   ]
  },
  {
   "cell_type": "code",
   "execution_count": 164,
   "metadata": {},
   "outputs": [
    {
     "data": {
      "text/html": [
       "<pre style=\"white-space:pre;overflow-x:auto;line-height:normal;font-family:Menlo,'DejaVu Sans Mono',consolas,'Courier New',monospace\"><span style=\"color: #ff00ff; text-decoration-color: #ff00ff; font-weight: bold\">[WARNING]</span> Experimental feature <span style=\"color: #008000; text-decoration-color: #008000\">'core_data_model_subsetting'</span> is subject to change without notice\n",
       "</pre>\n"
      ],
      "text/plain": [
       "\u001b[1;95m[\u001b[0m\u001b[1;95mWARNING\u001b[0m\u001b[1;95m]\u001b[0m Experimental feature \u001b[32m'core_data_model_subsetting'\u001b[0m is subject to change without notice\n"
      ]
     },
     "metadata": {},
     "output_type": "display_data"
    },
    {
     "data": {
      "text/html": [
       "<p>Success: Read NEAT(verified,physical,cdf_cdm,CogniteCore,v1)</p>"
      ],
      "text/plain": [
       "[]"
      ]
     },
     "execution_count": 164,
     "metadata": {},
     "output_type": "execute_result"
    }
   ],
   "source": [
    "neat.read.cdf.core_data_model(\n",
    "    [\"CogniteAsset\", \"CogniteEquipment\", \"CogniteTimeSeries\", \"CogniteActivity\", \"CogniteDescribable\"]\n",
    ")"
   ]
  },
  {
   "cell_type": "code",
   "execution_count": 165,
   "metadata": {},
   "outputs": [
    {
     "data": {
      "text/html": [
       "<H2>Data Model</H2><br /><div>\n",
       "<style scoped>\n",
       "    .dataframe tbody tr th:only-of-type {\n",
       "        vertical-align: middle;\n",
       "    }\n",
       "\n",
       "    .dataframe tbody tr th {\n",
       "        vertical-align: top;\n",
       "    }\n",
       "\n",
       "    .dataframe thead th {\n",
       "        text-align: right;\n",
       "    }\n",
       "</style>\n",
       "<table border=\"1\" class=\"dataframe\">\n",
       "  <thead>\n",
       "    <tr style=\"text-align: right;\">\n",
       "      <th></th>\n",
       "      <th></th>\n",
       "    </tr>\n",
       "  </thead>\n",
       "  <tbody>\n",
       "    <tr>\n",
       "      <th>aspect</th>\n",
       "      <td>physical</td>\n",
       "    </tr>\n",
       "    <tr>\n",
       "      <th>intended for</th>\n",
       "      <td>DMS Architect</td>\n",
       "    </tr>\n",
       "    <tr>\n",
       "      <th>name</th>\n",
       "      <td>CopyOf enterprise data model</td>\n",
       "    </tr>\n",
       "    <tr>\n",
       "      <th>space</th>\n",
       "      <td>my_space</td>\n",
       "    </tr>\n",
       "    <tr>\n",
       "      <th>external_id</th>\n",
       "      <td>MyCDMSubset</td>\n",
       "    </tr>\n",
       "    <tr>\n",
       "      <th>version</th>\n",
       "      <td>v1</td>\n",
       "    </tr>\n",
       "    <tr>\n",
       "      <th>views</th>\n",
       "      <td>38</td>\n",
       "    </tr>\n",
       "    <tr>\n",
       "      <th>containers</th>\n",
       "      <td>5</td>\n",
       "    </tr>\n",
       "    <tr>\n",
       "      <th>properties</th>\n",
       "      <td>21</td>\n",
       "    </tr>\n",
       "  </tbody>\n",
       "</table>\n",
       "</div>"
      ],
      "text/plain": [
       "<cognite.neat._session._base.NeatSession at 0x1d32a2fb390>"
      ]
     },
     "execution_count": 165,
     "metadata": {},
     "output_type": "execute_result"
    }
   ],
   "source": [
    "neat"
   ]
  },
  {
   "cell_type": "code",
   "execution_count": 166,
   "metadata": {},
   "outputs": [
    {
     "data": {
      "text/html": [
       "<p>Success: NEAT(verified,physical,my_space,MyCDMSubset,v1) &#8594; NEAT(verified,physical,radix_space,RadixEnterpriseDataModel,v1)</p>"
      ],
      "text/plain": [
       "[]"
      ]
     },
     "execution_count": 166,
     "metadata": {},
     "output_type": "execute_result"
    }
   ],
   "source": [
    "neat.set.data_model_id((\"radix_space\",\"RadixEnterpriseDataModel\",\"v1\"),name=\"Radix Enterprise Data Model Created by Horizontal\")"
   ]
  },
  {
   "cell_type": "code",
   "execution_count": 167,
   "metadata": {},
   "outputs": [
    {
     "data": {
      "text/html": [
       "<H2>Data Model</H2><br /><div>\n",
       "<style scoped>\n",
       "    .dataframe tbody tr th:only-of-type {\n",
       "        vertical-align: middle;\n",
       "    }\n",
       "\n",
       "    .dataframe tbody tr th {\n",
       "        vertical-align: top;\n",
       "    }\n",
       "\n",
       "    .dataframe thead th {\n",
       "        text-align: right;\n",
       "    }\n",
       "</style>\n",
       "<table border=\"1\" class=\"dataframe\">\n",
       "  <thead>\n",
       "    <tr style=\"text-align: right;\">\n",
       "      <th></th>\n",
       "      <th></th>\n",
       "    </tr>\n",
       "  </thead>\n",
       "  <tbody>\n",
       "    <tr>\n",
       "      <th>aspect</th>\n",
       "      <td>physical</td>\n",
       "    </tr>\n",
       "    <tr>\n",
       "      <th>intended for</th>\n",
       "      <td>DMS Architect</td>\n",
       "    </tr>\n",
       "    <tr>\n",
       "      <th>name</th>\n",
       "      <td>Radix Enterprise Data Model</td>\n",
       "    </tr>\n",
       "    <tr>\n",
       "      <th>space</th>\n",
       "      <td>radix_space</td>\n",
       "    </tr>\n",
       "    <tr>\n",
       "      <th>external_id</th>\n",
       "      <td>RadixEnterpriseDataModel</td>\n",
       "    </tr>\n",
       "    <tr>\n",
       "      <th>version</th>\n",
       "      <td>v1</td>\n",
       "    </tr>\n",
       "    <tr>\n",
       "      <th>views</th>\n",
       "      <td>38</td>\n",
       "    </tr>\n",
       "    <tr>\n",
       "      <th>containers</th>\n",
       "      <td>5</td>\n",
       "    </tr>\n",
       "    <tr>\n",
       "      <th>properties</th>\n",
       "      <td>21</td>\n",
       "    </tr>\n",
       "  </tbody>\n",
       "</table>\n",
       "</div>"
      ],
      "text/plain": [
       "<cognite.neat._session._base.NeatSession at 0x1d32a2fb390>"
      ]
     },
     "execution_count": 167,
     "metadata": {},
     "output_type": "execute_result"
    }
   ],
   "source": [
    "neat.to.excel(\"RadixEnterpriseDataModel.xlsx\")\n",
    "neat"
   ]
  },
  {
   "cell_type": "code",
   "execution_count": 168,
   "metadata": {},
   "outputs": [
    {
     "data": {
      "text/html": [
       "<pre style=\"white-space:pre;overflow-x:auto;line-height:normal;font-family:Menlo,'DejaVu Sans Mono',consolas,'Courier New',monospace\"><span style=\"color: #ff00ff; text-decoration-color: #ff00ff; font-weight: bold\">[WARNING]</span> Experimental feature <span style=\"color: #008000; text-decoration-color: #008000\">'enable_manual_edit'</span> is subject to change without notice\n",
       "</pre>\n"
      ],
      "text/plain": [
       "\u001b[1;95m[\u001b[0m\u001b[1;95mWARNING\u001b[0m\u001b[1;95m]\u001b[0m Experimental feature \u001b[32m'enable_manual_edit'\u001b[0m is subject to change without notice\n"
      ]
     },
     "metadata": {},
     "output_type": "display_data"
    },
    {
     "data": {
      "text/markdown": [
       "### 86 issues found\n",
       "\n",
       "  * **DeprecatedWarning**: Nullable column is deprecated\n",
       "Min Count column\n",
       "  * **DeprecatedWarning**: Is List column is deprecated\n",
       "Max Count column\n",
       "  * **DeprecatedWarning**: Nullable column is deprecated\n",
       "Min Count column\n",
       "  * **DeprecatedWarning**: Is List column is deprecated\n",
       "Max Count column\n",
       "  * **DeprecatedWarning**: Nullable column is deprecated\n",
       "Min Count column\n",
       "  * **DeprecatedWarning**: Is List column is deprecated\n",
       "Max Count column\n",
       "  * **DeprecatedWarning**: Nullable column is deprecated\n",
       "Min Count column\n",
       "  * **DeprecatedWarning**: Is List column is deprecated\n",
       "Max Count column\n",
       "  * **DeprecatedWarning**: Nullable column is deprecated\n",
       "Min Count column\n",
       "  * **DeprecatedWarning**: Is List column is deprecated\n",
       "Max Count column\n",
       "  * **DeprecatedWarning**: Nullable column is deprecated\n",
       "Min Count column\n",
       "  * **DeprecatedWarning**: Is List column is deprecated\n",
       "Max Count column\n",
       "  * **DeprecatedWarning**: Nullable column is deprecated\n",
       "Min Count column\n",
       "  * **DeprecatedWarning**: Is List column is deprecated\n",
       "Max Count column\n",
       "  * **DeprecatedWarning**: Nullable column is deprecated\n",
       "Min Count column\n",
       "  * **DeprecatedWarning**: Is List column is deprecated\n",
       "Max Count column\n",
       "  * **DeprecatedWarning**: Nullable column is deprecated\n",
       "Min Count column\n",
       "  * **DeprecatedWarning**: Is List column is deprecated\n",
       "Max Count column\n",
       "  * **DeprecatedWarning**: Nullable column is deprecated\n",
       "Min Count column\n",
       "  * **DeprecatedWarning**: Is List column is deprecated\n",
       "Max Count column\n",
       "  * **DeprecatedWarning**: Nullable column is deprecated\n",
       "Min Count column\n",
       "  * **DeprecatedWarning**: Is List column is deprecated\n",
       "Max Count column\n",
       "  * **DeprecatedWarning**: Nullable column is deprecated\n",
       "Min Count column\n",
       "  * **DeprecatedWarning**: Is List column is deprecated\n",
       "Max Count column\n",
       "  * **DeprecatedWarning**: Nullable column is deprecated\n",
       "Min Count column\n",
       "  * **DeprecatedWarning**: Is List column is deprecated\n",
       "Max Count column\n",
       "  * **DeprecatedWarning**: Nullable column is deprecated\n",
       "Min Count column\n",
       "  * **DeprecatedWarning**: Is List column is deprecated\n",
       "Max Count column\n",
       "  * **DeprecatedWarning**: Nullable column is deprecated\n",
       "Min Count column\n",
       "  * **DeprecatedWarning**: Is List column is deprecated\n",
       "Max Count column\n",
       "  * **DeprecatedWarning**: Nullable column is deprecated\n",
       "Min Count column\n",
       "  * **DeprecatedWarning**: Is List column is deprecated\n",
       "Max Count column\n",
       "  * **DeprecatedWarning**: Nullable column is deprecated\n",
       "Min Count column\n",
       "  * **DeprecatedWarning**: Is List column is deprecated\n",
       "Max Count column\n",
       "  * **DeprecatedWarning**: Nullable column is deprecated\n",
       "Min Count column\n",
       "  * **DeprecatedWarning**: Is List column is deprecated\n",
       "Max Count column\n",
       "  * **DeprecatedWarning**: Nullable column is deprecated\n",
       "Min Count column\n",
       "  * **DeprecatedWarning**: Is List column is deprecated\n",
       "Max Count column\n",
       "  * **DeprecatedWarning**: Nullable column is deprecated\n",
       "Min Count column\n",
       "  * **DeprecatedWarning**: Is List column is deprecated\n",
       "Max Count column\n",
       "  * **DeprecatedWarning**: Nullable column is deprecated\n",
       "Min Count column\n",
       "  * **DeprecatedWarning**: Is List column is deprecated\n",
       "Max Count column\n",
       "  * **DeprecatedWarning**: Nullable column is deprecated\n",
       "Min Count column\n",
       "  * **DeprecatedWarning**: Is List column is deprecated\n",
       "Max Count column\n",
       "  * **DeprecatedWarning**: Nullable column is deprecated\n",
       "Min Count column\n",
       "  * **DeprecatedWarning**: Is List column is deprecated\n",
       "Max Count column\n",
       "  * **DeprecatedWarning**: Nullable column is deprecated\n",
       "Min Count column\n",
       "  * **DeprecatedWarning**: Is List column is deprecated\n",
       "Max Count column\n",
       "  * **DeprecatedWarning**: Nullable column is deprecated\n",
       "Min Count column\n",
       "  * **DeprecatedWarning**: Is List column is deprecated\n",
       "Max Count column\n",
       "  * ... 36 more"
      ],
      "text/plain": [
       "<IPython.core.display.Markdown object>"
      ]
     },
     "metadata": {},
     "output_type": "display_data"
    }
   ],
   "source": [
    "neat.read.excel(\"wind-farm-data-model-manual-edited.xlsx\", enable_manual_edit=True)\n",
    "neat.inspect.issues()"
   ]
  },
  {
   "cell_type": "code",
   "execution_count": 158,
   "metadata": {},
   "outputs": [
    {
     "name": "stdout",
     "output_type": "stream",
     "text": [
      "data_model_provenance_8140f037.html\n",
      "http_purl.org_cognite_neat_data-model_verified_physical_radix_space_RadixEnterpriseDataModel_v1.html\n",
      "http_purl.org_cognite_neat_data-model_verified_physical_radix_space_RadixEnterpriseDataModel_v1_implements.html\n"
     ]
    },
    {
     "data": {
      "text/html": [
       "<H2>Data Model</H2><br /><div>\n",
       "<style scoped>\n",
       "    .dataframe tbody tr th:only-of-type {\n",
       "        vertical-align: middle;\n",
       "    }\n",
       "\n",
       "    .dataframe tbody tr th {\n",
       "        vertical-align: top;\n",
       "    }\n",
       "\n",
       "    .dataframe thead th {\n",
       "        text-align: right;\n",
       "    }\n",
       "</style>\n",
       "<table border=\"1\" class=\"dataframe\">\n",
       "  <thead>\n",
       "    <tr style=\"text-align: right;\">\n",
       "      <th></th>\n",
       "      <th></th>\n",
       "    </tr>\n",
       "  </thead>\n",
       "  <tbody>\n",
       "    <tr>\n",
       "      <th>aspect</th>\n",
       "      <td>physical</td>\n",
       "    </tr>\n",
       "    <tr>\n",
       "      <th>intended for</th>\n",
       "      <td>DMS Architect</td>\n",
       "    </tr>\n",
       "    <tr>\n",
       "      <th>name</th>\n",
       "      <td>Radix Enterprise Data Model</td>\n",
       "    </tr>\n",
       "    <tr>\n",
       "      <th>space</th>\n",
       "      <td>radix_space</td>\n",
       "    </tr>\n",
       "    <tr>\n",
       "      <th>external_id</th>\n",
       "      <td>RadixEnterpriseDataModel</td>\n",
       "    </tr>\n",
       "    <tr>\n",
       "      <th>version</th>\n",
       "      <td>v1</td>\n",
       "    </tr>\n",
       "    <tr>\n",
       "      <th>views</th>\n",
       "      <td>42</td>\n",
       "    </tr>\n",
       "    <tr>\n",
       "      <th>containers</th>\n",
       "      <td>9</td>\n",
       "    </tr>\n",
       "    <tr>\n",
       "      <th>properties</th>\n",
       "      <td>39</td>\n",
       "    </tr>\n",
       "  </tbody>\n",
       "</table>\n",
       "</div>"
      ],
      "text/plain": [
       "<cognite.neat._session._base.NeatSession at 0x1d327ceea10>"
      ]
     },
     "execution_count": 158,
     "metadata": {},
     "output_type": "execute_result"
    }
   ],
   "source": [
    "neat.show.data_model.provenance()\n",
    "neat.show.data_model()\n",
    "neat.show.data_model.implements()\n",
    "neat"
   ]
  },
  {
   "cell_type": "code",
   "execution_count": 169,
   "metadata": {},
   "outputs": [
    {
     "name": "stdout",
     "output_type": "stream",
     "text": [
      "You can inspect the details with the .inspect.outcome.data_model(...) method.\n"
     ]
    },
    {
     "data": {
      "text/html": [
       "<style type=\"text/css\">\n",
       "</style>\n",
       "<table id=\"T_aef9c\">\n",
       "  <thead>\n",
       "    <tr>\n",
       "      <th class=\"blank level0\" >&nbsp;</th>\n",
       "      <th id=\"T_aef9c_level0_col0\" class=\"col_heading level0 col0\" >name</th>\n",
       "      <th id=\"T_aef9c_level0_col1\" class=\"col_heading level0 col1\" >unchanged</th>\n",
       "      <th id=\"T_aef9c_level0_col2\" class=\"col_heading level0 col2\" >created</th>\n",
       "      <th id=\"T_aef9c_level0_col3\" class=\"col_heading level0 col3\" >deleted</th>\n",
       "    </tr>\n",
       "  </thead>\n",
       "  <tbody>\n",
       "    <tr>\n",
       "      <th id=\"T_aef9c_level0_row0\" class=\"row_heading level0 row0\" >0</th>\n",
       "      <td id=\"T_aef9c_row0_col0\" class=\"data row0 col0\" >spaces</td>\n",
       "      <td id=\"T_aef9c_row0_col1\" class=\"data row0 col1\" >1</td>\n",
       "      <td id=\"T_aef9c_row0_col2\" class=\"data row0 col2\" >0</td>\n",
       "      <td id=\"T_aef9c_row0_col3\" class=\"data row0 col3\" >0</td>\n",
       "    </tr>\n",
       "    <tr>\n",
       "      <th id=\"T_aef9c_level0_row1\" class=\"row_heading level0 row1\" >1</th>\n",
       "      <td id=\"T_aef9c_row1_col0\" class=\"data row1 col0\" >containers</td>\n",
       "      <td id=\"T_aef9c_row1_col1\" class=\"data row1 col1\" >0</td>\n",
       "      <td id=\"T_aef9c_row1_col2\" class=\"data row1 col2\" >9</td>\n",
       "      <td id=\"T_aef9c_row1_col3\" class=\"data row1 col3\" >0</td>\n",
       "    </tr>\n",
       "    <tr>\n",
       "      <th id=\"T_aef9c_level0_row2\" class=\"row_heading level0 row2\" >2</th>\n",
       "      <td id=\"T_aef9c_row2_col0\" class=\"data row2 col0\" >views</td>\n",
       "      <td id=\"T_aef9c_row2_col1\" class=\"data row2 col1\" >0</td>\n",
       "      <td id=\"T_aef9c_row2_col2\" class=\"data row2 col2\" >9</td>\n",
       "      <td id=\"T_aef9c_row2_col3\" class=\"data row2 col3\" >0</td>\n",
       "    </tr>\n",
       "    <tr>\n",
       "      <th id=\"T_aef9c_level0_row3\" class=\"row_heading level0 row3\" >3</th>\n",
       "      <td id=\"T_aef9c_row3_col0\" class=\"data row3 col0\" >data_models</td>\n",
       "      <td id=\"T_aef9c_row3_col1\" class=\"data row3 col1\" >0</td>\n",
       "      <td id=\"T_aef9c_row3_col2\" class=\"data row3 col2\" >1</td>\n",
       "      <td id=\"T_aef9c_row3_col3\" class=\"data row3 col3\" >1</td>\n",
       "    </tr>\n",
       "    <tr>\n",
       "      <th id=\"T_aef9c_level0_row4\" class=\"row_heading level0 row4\" >4</th>\n",
       "      <td id=\"T_aef9c_row4_col0\" class=\"data row4 col0\" >nodes</td>\n",
       "      <td id=\"T_aef9c_row4_col1\" class=\"data row4 col1\" >0</td>\n",
       "      <td id=\"T_aef9c_row4_col2\" class=\"data row4 col2\" >0</td>\n",
       "      <td id=\"T_aef9c_row4_col3\" class=\"data row4 col3\" >0</td>\n",
       "    </tr>\n",
       "  </tbody>\n",
       "</table>\n"
      ],
      "text/plain": [
       "[UploadResult(name='spaces', error_messages=[], issues=[], created=set(), upserted=set(), deleted=set(), changed=set(), unchanged={'radix_space'}, skipped=set(), failed_created=set(), failed_upserted=set(), failed_changed=set(), failed_deleted=set(), failed_items=[]),\n",
       " UploadResult(name='containers', error_messages=[], issues=[], created={ContainerId(space='radix_space', external_id='Substation'), ContainerId(space='radix_space', external_id='WindTurbine'), ContainerId(space='radix_space', external_id='WindFarm'), ContainerId(space='radix_space', external_id='Location'), ContainerId(space='radix_space', external_id='MetMast'), ContainerId(space='radix_space', external_id='RadixHorizontalTimeSeries'), ContainerId(space='radix_space', external_id='RadixHorizontalAsset'), ContainerId(space='radix_space', external_id='RadixHorizontalActivity'), ContainerId(space='radix_space', external_id='RadixHorizontalEquipment')}, upserted=set(), deleted=set(), changed=set(), unchanged=set(), skipped=set(), failed_created=set(), failed_upserted=set(), failed_changed=set(), failed_deleted=set(), failed_items=[]),\n",
       " UploadResult(name='views', error_messages=[], issues=[], created={ViewId(space='radix_space', external_id='Location', version='v1'), ViewId(space='radix_space', external_id='RadixHorizontalEquipment', version='v1'), ViewId(space='radix_space', external_id='WindFarm', version='v1'), ViewId(space='radix_space', external_id='WindTurbine', version='v1'), ViewId(space='radix_space', external_id='RadixHorizontalTimeSeries', version='v1'), ViewId(space='radix_space', external_id='RadixHorizontalActivity', version='v1'), ViewId(space='radix_space', external_id='Substation', version='v1'), ViewId(space='radix_space', external_id='MetMast', version='v1'), ViewId(space='radix_space', external_id='RadixHorizontalAsset', version='v1')}, upserted=set(), deleted=set(), changed=set(), unchanged=set(), skipped=set(), failed_created=set(), failed_upserted=set(), failed_changed=set(), failed_deleted=set(), failed_items=[]),\n",
       " UploadResult(name='data_models', error_messages=[], issues=[], created={DataModelId(space='radix_space', external_id='RadixEnterpriseDataModel', version='v1')}, upserted=set(), deleted={DataModelId(space='radix_space', external_id='RadixEnterpriseDataModel', version='v1')}, changed=set(), unchanged=set(), skipped=set(), failed_created=set(), failed_upserted=set(), failed_changed=set(), failed_deleted=set(), failed_items=[]),\n",
       " UploadResult(name='nodes', error_messages=[], issues=[], created=set(), upserted=set(), deleted=set(), changed=set(), unchanged=set(), skipped=set(), failed_created=set(), failed_upserted=set(), failed_changed=set(), failed_deleted=set(), failed_items=[])]"
      ]
     },
     "execution_count": 169,
     "metadata": {},
     "output_type": "execute_result"
    }
   ],
   "source": [
    "neat.to.cdf.data_model()"
   ]
  }
 ],
 "metadata": {
  "kernelspec": {
   "display_name": "Python 3",
   "language": "python",
   "name": "python3"
  },
  "language_info": {
   "codemirror_mode": {
    "name": "ipython",
    "version": 3
   },
   "file_extension": ".py",
   "mimetype": "text/x-python",
   "name": "python",
   "nbconvert_exporter": "python",
   "pygments_lexer": "ipython3",
   "version": "3.11.5"
  }
 },
 "nbformat": 4,
 "nbformat_minor": 2
}

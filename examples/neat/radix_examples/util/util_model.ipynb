{
 "cells": [
  {
   "cell_type": "code",
   "execution_count": 1,
   "metadata": {},
   "outputs": [
    {
     "name": "stderr",
     "output_type": "stream",
     "text": [
      "C:\\Users\\Filipe\\AppData\\Roaming\\Python\\Python312\\site-packages\\ipykernel\\ipkernel.py:766: UserWarning: You are using version='7.74.1' of the SDK, however version='7.74.5' is available. To suppress this warning, either upgrade or do the following:\n",
      ">>> from cognite.client.config import global_config\n",
      ">>> global_config.disable_pypi_version_check = True\n",
      "  _threading_Thread_run(self)\n"
     ]
    }
   ],
   "source": [
    "import yaml\n",
    "import os\n",
    "from pathlib import Path\n",
    "from string import Template\n",
    "from cognite.client import CogniteClient, global_config\n",
    "from cognite.client.data_classes.filters import SpaceFilter\n",
    "from cognite.client.data_classes.data_modeling.instances import InvolvedContainers\n",
    "\n",
    "file_path = Path(\"../pygen/cognite-sdk-config.yaml\")\n",
    "\n",
    "env_sub_template = Template(file_path.read_text())\n",
    "file_env_parsed = env_sub_template.substitute(dict(os.environ))\n",
    "\n",
    "cognite_config = yaml.safe_load(file_env_parsed)\n",
    "\n",
    "global_config.apply_settings(cognite_config[\"global\"])\n",
    "client = CogniteClient.load(cognite_config[\"client\"])\n"
   ]
  },
  {
   "cell_type": "markdown",
   "metadata": {},
   "source": [
    "#### Containers"
   ]
  },
  {
   "cell_type": "code",
   "execution_count": 2,
   "metadata": {},
   "outputs": [
    {
     "data": {
      "text/html": [
       "<div>\n",
       "<style scoped>\n",
       "    .dataframe tbody tr th:only-of-type {\n",
       "        vertical-align: middle;\n",
       "    }\n",
       "\n",
       "    .dataframe tbody tr th {\n",
       "        vertical-align: top;\n",
       "    }\n",
       "\n",
       "    .dataframe thead th {\n",
       "        text-align: right;\n",
       "    }\n",
       "</style>\n",
       "<table border=\"1\" class=\"dataframe\">\n",
       "  <thead>\n",
       "    <tr style=\"text-align: right;\">\n",
       "      <th></th>\n",
       "      <th>space</th>\n",
       "      <th>external_id</th>\n",
       "      <th>properties</th>\n",
       "      <th>constraints</th>\n",
       "      <th>indexes</th>\n",
       "      <th>used_for</th>\n",
       "      <th>is_global</th>\n",
       "      <th>last_updated_time</th>\n",
       "      <th>created_time</th>\n",
       "    </tr>\n",
       "  </thead>\n",
       "  <tbody>\n",
       "    <tr>\n",
       "      <th>0</th>\n",
       "      <td>radix_space</td>\n",
       "      <td>CopyOfActivity</td>\n",
       "      <td>{'copyOfActivityGUID': {'type': {'list': False...</td>\n",
       "      <td>{}</td>\n",
       "      <td>{}</td>\n",
       "      <td>all</td>\n",
       "      <td>False</td>\n",
       "      <td>2025-04-04 15:54:35.812</td>\n",
       "      <td>2025-04-04 15:54:35.812</td>\n",
       "    </tr>\n",
       "    <tr>\n",
       "      <th>1</th>\n",
       "      <td>radix_space</td>\n",
       "      <td>CopyOfAsset</td>\n",
       "      <td>{'copyOfAssetGUID': {'type': {'list': False, '...</td>\n",
       "      <td>{}</td>\n",
       "      <td>{}</td>\n",
       "      <td>all</td>\n",
       "      <td>False</td>\n",
       "      <td>2025-04-04 15:54:35.812</td>\n",
       "      <td>2025-04-04 15:54:35.812</td>\n",
       "    </tr>\n",
       "    <tr>\n",
       "      <th>2</th>\n",
       "      <td>radix_space</td>\n",
       "      <td>CopyOfDescribable</td>\n",
       "      <td>{'copyOfDescribableGUID': {'type': {'list': Fa...</td>\n",
       "      <td>{}</td>\n",
       "      <td>{}</td>\n",
       "      <td>all</td>\n",
       "      <td>False</td>\n",
       "      <td>2025-04-04 15:54:35.812</td>\n",
       "      <td>2025-04-04 15:54:35.812</td>\n",
       "    </tr>\n",
       "    <tr>\n",
       "      <th>3</th>\n",
       "      <td>radix_space</td>\n",
       "      <td>CopyOfEquipment</td>\n",
       "      <td>{'copyOfEquipmentGUID': {'type': {'list': Fals...</td>\n",
       "      <td>{}</td>\n",
       "      <td>{}</td>\n",
       "      <td>all</td>\n",
       "      <td>False</td>\n",
       "      <td>2025-04-10 16:31:57.969</td>\n",
       "      <td>2025-04-10 16:31:57.969</td>\n",
       "    </tr>\n",
       "    <tr>\n",
       "      <th>4</th>\n",
       "      <td>radix_space</td>\n",
       "      <td>CopyOfTimeSeries</td>\n",
       "      <td>{'copyOfTimeSeriesGUID': {'type': {'list': Fal...</td>\n",
       "      <td>{}</td>\n",
       "      <td>{}</td>\n",
       "      <td>all</td>\n",
       "      <td>False</td>\n",
       "      <td>2025-04-04 15:54:35.812</td>\n",
       "      <td>2025-04-04 15:54:35.812</td>\n",
       "    </tr>\n",
       "    <tr>\n",
       "      <th>5</th>\n",
       "      <td>radix_space</td>\n",
       "      <td>Location</td>\n",
       "      <td>{'latitude': {'type': {'list': False, 'unit': ...</td>\n",
       "      <td>{}</td>\n",
       "      <td>{}</td>\n",
       "      <td>all</td>\n",
       "      <td>False</td>\n",
       "      <td>2025-03-28 16:15:40.552</td>\n",
       "      <td>2025-03-28 16:15:40.552</td>\n",
       "    </tr>\n",
       "    <tr>\n",
       "      <th>6</th>\n",
       "      <td>radix_space</td>\n",
       "      <td>MetMast</td>\n",
       "      <td>{'iecCompliant': {'type': {'list': False, 'typ...</td>\n",
       "      <td>{}</td>\n",
       "      <td>{}</td>\n",
       "      <td>all</td>\n",
       "      <td>False</td>\n",
       "      <td>2025-03-28 16:15:40.552</td>\n",
       "      <td>2025-03-28 16:15:40.552</td>\n",
       "    </tr>\n",
       "    <tr>\n",
       "      <th>7</th>\n",
       "      <td>radix_space</td>\n",
       "      <td>MonthlyLoss</td>\n",
       "      <td>{'metric': {'type': {'list': False, 'collation...</td>\n",
       "      <td>{}</td>\n",
       "      <td>{}</td>\n",
       "      <td>all</td>\n",
       "      <td>False</td>\n",
       "      <td>2025-04-09 14:36:58.004</td>\n",
       "      <td>2025-04-09 14:36:58.004</td>\n",
       "    </tr>\n",
       "    <tr>\n",
       "      <th>8</th>\n",
       "      <td>radix_space</td>\n",
       "      <td>RadixHorizontalActivity</td>\n",
       "      <td>{'RadixHorizontalActivityGUID': {'type': {'lis...</td>\n",
       "      <td>{}</td>\n",
       "      <td>{}</td>\n",
       "      <td>all</td>\n",
       "      <td>False</td>\n",
       "      <td>2025-03-28 16:15:40.552</td>\n",
       "      <td>2025-03-28 16:15:40.552</td>\n",
       "    </tr>\n",
       "    <tr>\n",
       "      <th>9</th>\n",
       "      <td>radix_space</td>\n",
       "      <td>RadixHorizontalAsset</td>\n",
       "      <td>{'location': {'type': {'list': False, 'type': ...</td>\n",
       "      <td>{}</td>\n",
       "      <td>{}</td>\n",
       "      <td>all</td>\n",
       "      <td>False</td>\n",
       "      <td>2025-03-28 16:15:40.552</td>\n",
       "      <td>2025-03-28 16:15:40.552</td>\n",
       "    </tr>\n",
       "  </tbody>\n",
       "</table>\n",
       "</div>"
      ],
      "text/plain": [
       "         space              external_id  \\\n",
       "0  radix_space           CopyOfActivity   \n",
       "1  radix_space              CopyOfAsset   \n",
       "2  radix_space        CopyOfDescribable   \n",
       "3  radix_space          CopyOfEquipment   \n",
       "4  radix_space         CopyOfTimeSeries   \n",
       "5  radix_space                 Location   \n",
       "6  radix_space                  MetMast   \n",
       "7  radix_space              MonthlyLoss   \n",
       "8  radix_space  RadixHorizontalActivity   \n",
       "9  radix_space     RadixHorizontalAsset   \n",
       "\n",
       "                                          properties constraints indexes  \\\n",
       "0  {'copyOfActivityGUID': {'type': {'list': False...          {}      {}   \n",
       "1  {'copyOfAssetGUID': {'type': {'list': False, '...          {}      {}   \n",
       "2  {'copyOfDescribableGUID': {'type': {'list': Fa...          {}      {}   \n",
       "3  {'copyOfEquipmentGUID': {'type': {'list': Fals...          {}      {}   \n",
       "4  {'copyOfTimeSeriesGUID': {'type': {'list': Fal...          {}      {}   \n",
       "5  {'latitude': {'type': {'list': False, 'unit': ...          {}      {}   \n",
       "6  {'iecCompliant': {'type': {'list': False, 'typ...          {}      {}   \n",
       "7  {'metric': {'type': {'list': False, 'collation...          {}      {}   \n",
       "8  {'RadixHorizontalActivityGUID': {'type': {'lis...          {}      {}   \n",
       "9  {'location': {'type': {'list': False, 'type': ...          {}      {}   \n",
       "\n",
       "  used_for  is_global       last_updated_time            created_time  \n",
       "0      all      False 2025-04-04 15:54:35.812 2025-04-04 15:54:35.812  \n",
       "1      all      False 2025-04-04 15:54:35.812 2025-04-04 15:54:35.812  \n",
       "2      all      False 2025-04-04 15:54:35.812 2025-04-04 15:54:35.812  \n",
       "3      all      False 2025-04-10 16:31:57.969 2025-04-10 16:31:57.969  \n",
       "4      all      False 2025-04-04 15:54:35.812 2025-04-04 15:54:35.812  \n",
       "5      all      False 2025-03-28 16:15:40.552 2025-03-28 16:15:40.552  \n",
       "6      all      False 2025-03-28 16:15:40.552 2025-03-28 16:15:40.552  \n",
       "7      all      False 2025-04-09 14:36:58.004 2025-04-09 14:36:58.004  \n",
       "8      all      False 2025-03-28 16:15:40.552 2025-03-28 16:15:40.552  \n",
       "9      all      False 2025-03-28 16:15:40.552 2025-03-28 16:15:40.552  "
      ]
     },
     "execution_count": 2,
     "metadata": {},
     "output_type": "execute_result"
    }
   ],
   "source": [
    "#list all containers from a specific space\n",
    "space_name = \"radix_space\"\n",
    "container_list = client.data_modeling.containers.list(space=space_name).to_pandas()\n",
    "container_list\n"
   ]
  },
  {
   "cell_type": "code",
   "execution_count": null,
   "metadata": {},
   "outputs": [
    {
     "name": "stdout",
     "output_type": "stream",
     "text": [
      "CopyOfActivity\n",
      "CopyOfAsset\n",
      "CopyOfDescribable\n",
      "CopyOfEquipment\n",
      "CopyOfTimeSeries\n",
      "Location\n",
      "MetMast\n",
      "MonthlyLoss\n",
      "RadixHorizontalActivity\n",
      "RadixHorizontalAsset\n"
     ]
    },
    {
     "data": {
      "text/plain": [
       "[ContainerId(space='radix_space', external_id='MonthlyLoss')]"
      ]
     },
     "execution_count": 4,
     "metadata": {},
     "output_type": "execute_result"
    }
   ],
   "source": [
    "#delete all containers from a specific space\n",
    "for c in container_list.external_id:\n",
    "    print(c)\n",
    "    # client.data_modeling.containers.delete((space_name, c))\n",
    "# client.data_modeling.containers.delete((space_name, \"MonthlyLoss\"))"
   ]
  },
  {
   "cell_type": "markdown",
   "metadata": {},
   "source": [
    "#### Views"
   ]
  },
  {
   "cell_type": "code",
   "execution_count": 5,
   "metadata": {},
   "outputs": [],
   "source": [
    "#list all view from a specific space\n",
    "view_list = client.data_modeling.views.list(space=space_name).to_pandas()\n",
    "# view_list"
   ]
  },
  {
   "cell_type": "code",
   "execution_count": null,
   "metadata": {},
   "outputs": [
    {
     "name": "stdout",
     "output_type": "stream",
     "text": [
      "CopyOfActivity\n",
      "CopyOfAsset\n",
      "CopyOfDescribable\n",
      "CopyOfEquipment\n",
      "CopyOfTimeSeries\n",
      "Location\n",
      "MetMast\n",
      "MonthlyLoss\n",
      "RadixHorizontalActivity\n",
      "RadixHorizontalAsset\n"
     ]
    },
    {
     "data": {
      "text/plain": [
       "[ViewId(space='radix_space', external_id='MonthlyLoss', version='v1')]"
      ]
     },
     "execution_count": 7,
     "metadata": {},
     "output_type": "execute_result"
    }
   ],
   "source": [
    "#delete all views from a specific space\n",
    "for v in view_list.external_id:\n",
    "    print(v)\n",
    "    # client.data_modeling.views.delete((space_name, v,\"v1\"))\n",
    "# client.data_modeling.views.delete((space_name, \"MonthlyLoss\",\"v1\"))"
   ]
  },
  {
   "cell_type": "markdown",
   "metadata": {},
   "source": [
    "#### Data Models"
   ]
  },
  {
   "cell_type": "code",
   "execution_count": 14,
   "metadata": {},
   "outputs": [
    {
     "data": {
      "text/html": [
       "<div>\n",
       "<style scoped>\n",
       "    .dataframe tbody tr th:only-of-type {\n",
       "        vertical-align: middle;\n",
       "    }\n",
       "\n",
       "    .dataframe tbody tr th {\n",
       "        vertical-align: top;\n",
       "    }\n",
       "\n",
       "    .dataframe thead th {\n",
       "        text-align: right;\n",
       "    }\n",
       "</style>\n",
       "<table border=\"1\" class=\"dataframe\">\n",
       "  <thead>\n",
       "    <tr style=\"text-align: right;\">\n",
       "      <th></th>\n",
       "      <th>space</th>\n",
       "      <th>external_id</th>\n",
       "      <th>name</th>\n",
       "      <th>description</th>\n",
       "      <th>version</th>\n",
       "      <th>views</th>\n",
       "      <th>is_global</th>\n",
       "      <th>last_updated_time</th>\n",
       "      <th>created_time</th>\n",
       "    </tr>\n",
       "  </thead>\n",
       "  <tbody>\n",
       "    <tr>\n",
       "      <th>0</th>\n",
       "      <td>radix_space</td>\n",
       "      <td>RadixEnterpriseDataModel</td>\n",
       "      <td>Radix Enterprise Data Model</td>\n",
       "      <td>Radix OEE model made to demonstrate process of...</td>\n",
       "      <td>v1</td>\n",
       "      <td>[{'space': 'cdf_cdm', 'external_id': 'Cognite3...</td>\n",
       "      <td>False</td>\n",
       "      <td>2025-04-10 18:58:14.432</td>\n",
       "      <td>2025-04-10 18:58:14.432</td>\n",
       "    </tr>\n",
       "  </tbody>\n",
       "</table>\n",
       "</div>"
      ],
      "text/plain": [
       "         space               external_id                         name  \\\n",
       "0  radix_space  RadixEnterpriseDataModel  Radix Enterprise Data Model   \n",
       "\n",
       "                                         description version  \\\n",
       "0  Radix OEE model made to demonstrate process of...      v1   \n",
       "\n",
       "                                               views  is_global  \\\n",
       "0  [{'space': 'cdf_cdm', 'external_id': 'Cognite3...      False   \n",
       "\n",
       "        last_updated_time            created_time  \n",
       "0 2025-04-10 18:58:14.432 2025-04-10 18:58:14.432  "
      ]
     },
     "execution_count": 14,
     "metadata": {},
     "output_type": "execute_result"
    }
   ],
   "source": [
    "client.data_modeling.data_models.list(space=\"radix_space\").to_pandas()"
   ]
  },
  {
   "cell_type": "code",
   "execution_count": null,
   "metadata": {},
   "outputs": [
    {
     "data": {
      "text/plain": [
       "[DataModelId(space='radix_oee_space', external_id='OEEDataModel', version='v1')]"
      ]
     },
     "execution_count": 12,
     "metadata": {},
     "output_type": "execute_result"
    }
   ],
   "source": [
    "# client.data_modeling.data_models.delete((\"radix_space\", \"OEEDataModel\",\"v1\"))"
   ]
  },
  {
   "cell_type": "code",
   "execution_count": null,
   "metadata": {},
   "outputs": [],
   "source": [
    "dry_run = False\n",
    "filter = SpaceFilter(space_name)\n",
    "deleted_total = 0\n",
    "for batch in client.data_modeling.instances(instance_type=\"node\", filter=filter, chunk_size=1000):\n",
    "    result = client.data_modeling.instances.inspect(\n",
    "        nodes=batch.as_ids(),\n",
    "        involved_containers=InvolvedContainers()\n",
    "    )\n",
    "    nodes_without_container_data = [\n",
    "        (node.space, node.external_id) for node in result.nodes\n",
    "        if not node.inspection_results.involved_containers\n",
    "    ]\n",
    "    if dry_run:\n",
    "        for space, external_id in nodes_without_container_data:\n",
    "            print(f\"{space}:{external_id}\")\n",
    "    else:\n",
    "        client.data_modeling.instances.delete(nodes=nodes_without_container_data)\n",
    "        deleted_total += len(nodes_without_container_data)\n",
    "        print(f\"Deleted {len(nodes_without_container_data)} nodes without container data\")\n",
    "\n",
    "print(f\"Deleted a total of {deleted_total} nodes\")"
   ]
  },
  {
   "cell_type": "code",
   "execution_count": null,
   "metadata": {},
   "outputs": [],
   "source": [
    "client.data_modeling.spaces.delete(space_name)"
   ]
  },
  {
   "cell_type": "code",
   "execution_count": null,
   "metadata": {},
   "outputs": [],
   "source": []
  }
 ],
 "metadata": {
  "kernelspec": {
   "display_name": "Python 3",
   "language": "python",
   "name": "python3"
  },
  "language_info": {
   "codemirror_mode": {
    "name": "ipython",
    "version": 3
   },
   "file_extension": ".py",
   "mimetype": "text/x-python",
   "name": "python",
   "nbconvert_exporter": "python",
   "pygments_lexer": "ipython3",
   "version": "3.12.1"
  }
 },
 "nbformat": 4,
 "nbformat_minor": 2
}

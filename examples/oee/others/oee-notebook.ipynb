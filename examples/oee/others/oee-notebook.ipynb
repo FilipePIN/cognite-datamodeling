{
 "cells": [
  {
   "cell_type": "code",
   "execution_count": 10,
   "metadata": {},
   "outputs": [
    {
     "name": "stdout",
     "output_type": "stream",
     "text": [
      "Requirement already satisfied: cognite-pygen in c:\\python311\\lib\\site-packages (1.0.2)\n",
      "Requirement already satisfied: Jinja2>=3.1 in c:\\users\\andre.carvalho\\appdata\\roaming\\python\\python311\\site-packages (from cognite-pygen) (3.1.2)\n",
      "Requirement already satisfied: cognite-sdk<8.0.0,>=7.62.4 in c:\\python311\\lib\\site-packages (from cognite-pygen) (7.73.4)\n",
      "Requirement already satisfied: inflect>=6.2 in c:\\python311\\lib\\site-packages (from cognite-pygen) (7.5.0)\n",
      "Requirement already satisfied: pydantic<3.0.0,>=2.7.0 in c:\\python311\\lib\\site-packages (from cognite-pygen) (2.10.6)\n",
      "Requirement already satisfied: msal<2.0,>=1.31 in c:\\python311\\lib\\site-packages (from cognite-sdk<8.0.0,>=7.62.4->cognite-pygen) (1.31.1)\n",
      "Requirement already satisfied: packaging>=20 in c:\\python311\\lib\\site-packages (from cognite-sdk<8.0.0,>=7.62.4->cognite-pygen) (23.1)\n",
      "Requirement already satisfied: protobuf>=4 in c:\\python311\\lib\\site-packages (from cognite-sdk<8.0.0,>=7.62.4->cognite-pygen) (4.24.3)\n",
      "Requirement already satisfied: requests<3.0,>=2.27 in c:\\users\\andre.carvalho\\appdata\\roaming\\python\\python311\\site-packages (from cognite-sdk<8.0.0,>=7.62.4->cognite-pygen) (2.31.0)\n",
      "Requirement already satisfied: requests_oauthlib<2,>=1 in c:\\users\\andre.carvalho\\appdata\\roaming\\python\\python311\\site-packages (from cognite-sdk<8.0.0,>=7.62.4->cognite-pygen) (1.3.1)\n",
      "Requirement already satisfied: typing_extensions>=4 in c:\\python311\\lib\\site-packages (from cognite-sdk<8.0.0,>=7.62.4->cognite-pygen) (4.12.2)\n",
      "Requirement already satisfied: more_itertools>=8.5.0 in c:\\python311\\lib\\site-packages (from inflect>=6.2->cognite-pygen) (10.6.0)\n",
      "Requirement already satisfied: typeguard>=4.0.1 in c:\\python311\\lib\\site-packages (from inflect>=6.2->cognite-pygen) (4.4.2)\n",
      "Requirement already satisfied: MarkupSafe>=2.0 in c:\\users\\andre.carvalho\\appdata\\roaming\\python\\python311\\site-packages (from Jinja2>=3.1->cognite-pygen) (2.1.3)\n",
      "Requirement already satisfied: annotated-types>=0.6.0 in c:\\python311\\lib\\site-packages (from pydantic<3.0.0,>=2.7.0->cognite-pygen) (0.7.0)\n",
      "Requirement already satisfied: pydantic-core==2.27.2 in c:\\python311\\lib\\site-packages (from pydantic<3.0.0,>=2.7.0->cognite-pygen) (2.27.2)\n",
      "Requirement already satisfied: PyJWT<3,>=1.0.0 in c:\\python311\\lib\\site-packages (from PyJWT[crypto]<3,>=1.0.0->msal<2.0,>=1.31->cognite-sdk<8.0.0,>=7.62.4->cognite-pygen) (2.8.0)\n",
      "Requirement already satisfied: cryptography<46,>=2.5 in c:\\users\\andre.carvalho\\appdata\\roaming\\python\\python311\\site-packages (from msal<2.0,>=1.31->cognite-sdk<8.0.0,>=7.62.4->cognite-pygen) (41.0.4)\n",
      "Requirement already satisfied: charset-normalizer<4,>=2 in c:\\python311\\lib\\site-packages (from requests<3.0,>=2.27->cognite-sdk<8.0.0,>=7.62.4->cognite-pygen) (3.2.0)\n",
      "Requirement already satisfied: idna<4,>=2.5 in c:\\python311\\lib\\site-packages (from requests<3.0,>=2.27->cognite-sdk<8.0.0,>=7.62.4->cognite-pygen) (3.4)\n",
      "Requirement already satisfied: urllib3<3,>=1.21.1 in c:\\python311\\lib\\site-packages (from requests<3.0,>=2.27->cognite-sdk<8.0.0,>=7.62.4->cognite-pygen) (2.0.5)\n",
      "Requirement already satisfied: certifi>=2017.4.17 in c:\\users\\andre.carvalho\\appdata\\roaming\\python\\python311\\site-packages (from requests<3.0,>=2.27->cognite-sdk<8.0.0,>=7.62.4->cognite-pygen) (2023.7.22)\n",
      "Requirement already satisfied: oauthlib>=3.0.0 in c:\\python311\\lib\\site-packages (from requests_oauthlib<2,>=1->cognite-sdk<8.0.0,>=7.62.4->cognite-pygen) (3.2.2)\n",
      "Requirement already satisfied: cffi>=1.12 in c:\\users\\andre.carvalho\\appdata\\roaming\\python\\python311\\site-packages (from cryptography<46,>=2.5->msal<2.0,>=1.31->cognite-sdk<8.0.0,>=7.62.4->cognite-pygen) (1.17.1)\n",
      "Requirement already satisfied: pycparser in c:\\python311\\lib\\site-packages (from cffi>=1.12->cryptography<46,>=2.5->msal<2.0,>=1.31->cognite-sdk<8.0.0,>=7.62.4->cognite-pygen) (2.21)\n",
      "Note: you may need to restart the kernel to use updated packages.\n"
     ]
    },
    {
     "name": "stderr",
     "output_type": "stream",
     "text": [
      "WARNING: Ignoring invalid distribution ~ip (c:\\Python311\\Lib\\site-packages)\n",
      "DEPRECATION: Loading egg at c:\\python311\\lib\\site-packages\\vboxapi-1.0-py3.11.egg is deprecated. pip 25.1 will enforce this behaviour change. A possible replacement is to use pip for package installation. Discussion can be found at https://github.com/pypa/pip/issues/12330\n",
      "WARNING: Ignoring invalid distribution ~ip (c:\\Python311\\Lib\\site-packages)\n",
      "WARNING: Ignoring invalid distribution ~ip (c:\\Python311\\Lib\\site-packages)\n"
     ]
    }
   ],
   "source": [
    "%pip install cognite-pygen"
   ]
  },
  {
   "cell_type": "code",
   "execution_count": 12,
   "metadata": {},
   "outputs": [
    {
     "name": "stdout",
     "output_type": "stream",
     "text": [
      "Requirement already satisfied: cognite-sdk in c:\\python311\\lib\\site-packages (7.73.4)\n",
      "Requirement already satisfied: msal<2.0,>=1.31 in c:\\python311\\lib\\site-packages (from cognite-sdk) (1.31.1)\n",
      "Requirement already satisfied: packaging>=20 in c:\\python311\\lib\\site-packages (from cognite-sdk) (23.1)\n",
      "Requirement already satisfied: protobuf>=4 in c:\\python311\\lib\\site-packages (from cognite-sdk) (4.24.3)\n",
      "Requirement already satisfied: requests<3.0,>=2.27 in c:\\users\\andre.carvalho\\appdata\\roaming\\python\\python311\\site-packages (from cognite-sdk) (2.31.0)\n",
      "Requirement already satisfied: requests_oauthlib<2,>=1 in c:\\users\\andre.carvalho\\appdata\\roaming\\python\\python311\\site-packages (from cognite-sdk) (1.3.1)\n",
      "Requirement already satisfied: typing_extensions>=4 in c:\\python311\\lib\\site-packages (from cognite-sdk) (4.12.2)\n",
      "Requirement already satisfied: PyJWT<3,>=1.0.0 in c:\\python311\\lib\\site-packages (from PyJWT[crypto]<3,>=1.0.0->msal<2.0,>=1.31->cognite-sdk) (2.8.0)\n",
      "Requirement already satisfied: cryptography<46,>=2.5 in c:\\users\\andre.carvalho\\appdata\\roaming\\python\\python311\\site-packages (from msal<2.0,>=1.31->cognite-sdk) (41.0.4)\n",
      "Requirement already satisfied: charset-normalizer<4,>=2 in c:\\python311\\lib\\site-packages (from requests<3.0,>=2.27->cognite-sdk) (3.2.0)\n",
      "Requirement already satisfied: idna<4,>=2.5 in c:\\python311\\lib\\site-packages (from requests<3.0,>=2.27->cognite-sdk) (3.4)\n",
      "Requirement already satisfied: urllib3<3,>=1.21.1 in c:\\python311\\lib\\site-packages (from requests<3.0,>=2.27->cognite-sdk) (2.0.5)\n",
      "Requirement already satisfied: certifi>=2017.4.17 in c:\\users\\andre.carvalho\\appdata\\roaming\\python\\python311\\site-packages (from requests<3.0,>=2.27->cognite-sdk) (2023.7.22)\n",
      "Requirement already satisfied: oauthlib>=3.0.0 in c:\\python311\\lib\\site-packages (from requests_oauthlib<2,>=1->cognite-sdk) (3.2.2)\n",
      "Requirement already satisfied: cffi>=1.12 in c:\\users\\andre.carvalho\\appdata\\roaming\\python\\python311\\site-packages (from cryptography<46,>=2.5->msal<2.0,>=1.31->cognite-sdk) (1.17.1)\n",
      "Requirement already satisfied: pycparser in c:\\python311\\lib\\site-packages (from cffi>=1.12->cryptography<46,>=2.5->msal<2.0,>=1.31->cognite-sdk) (2.21)\n",
      "Note: you may need to restart the kernel to use updated packages.\n"
     ]
    },
    {
     "name": "stderr",
     "output_type": "stream",
     "text": [
      "WARNING: Ignoring invalid distribution ~ip (c:\\Python311\\Lib\\site-packages)\n",
      "DEPRECATION: Loading egg at c:\\python311\\lib\\site-packages\\vboxapi-1.0-py3.11.egg is deprecated. pip 25.1 will enforce this behaviour change. A possible replacement is to use pip for package installation. Discussion can be found at https://github.com/pypa/pip/issues/12330\n",
      "WARNING: Ignoring invalid distribution ~ip (c:\\Python311\\Lib\\site-packages)\n",
      "WARNING: Ignoring invalid distribution ~ip (c:\\Python311\\Lib\\site-packages)\n"
     ]
    }
   ],
   "source": [
    "%pip install --upgrade cognite-sdk"
   ]
  },
  {
   "cell_type": "code",
   "execution_count": 36,
   "metadata": {},
   "outputs": [],
   "source": [
    "from cognite.client import CogniteClient\n",
    "#from cognite.client.data_classes.data_modeling import NodeApply\n",
    "from cognite.pygen import __version__, generate_sdk_notebook"
   ]
  },
  {
   "cell_type": "code",
   "execution_count": 30,
   "metadata": {},
   "outputs": [
    {
     "data": {
      "text/plain": [
       "'1.0.2'"
      ]
     },
     "execution_count": 30,
     "metadata": {},
     "output_type": "execute_result"
    }
   ],
   "source": [
    "__version__"
   ]
  },
  {
   "cell_type": "code",
   "execution_count": null,
   "metadata": {},
   "outputs": [],
   "source": [
    "client = CogniteClient.default_oauth_client_credentials(\n",
    "    project=\"\",\n",
    "    cdf_cluster=\"\",\n",
    "    tenant_id=\"\",\n",
    "    client_id=\"\",\n",
    "    client_secret=\"\",\n",
    ")"
   ]
  },
  {
   "cell_type": "code",
   "execution_count": 38,
   "metadata": {},
   "outputs": [
    {
     "ename": "ValueError",
     "evalue": "No ClientConfig has been provided, either pass it directly to CogniteClient or set global_config.default_client_config.",
     "output_type": "error",
     "traceback": [
      "\u001b[1;31m---------------------------------------------------------------------------\u001b[0m",
      "\u001b[1;31mValueError\u001b[0m                                Traceback (most recent call last)",
      "Cell \u001b[1;32mIn[38], line 1\u001b[0m\n\u001b[1;32m----> 1\u001b[0m client \u001b[38;5;241m=\u001b[39m \u001b[43mCogniteClient\u001b[49m\u001b[43m(\u001b[49m\u001b[43m)\u001b[49m\n",
      "File \u001b[1;32mc:\\Python311\\Lib\\site-packages\\cognite\\client\\_cognite_client.py:54\u001b[0m, in \u001b[0;36mCogniteClient.__init__\u001b[1;34m(self, config)\u001b[0m\n\u001b[0;32m     52\u001b[0m \u001b[38;5;28;01mdef\u001b[39;00m \u001b[38;5;21m__init__\u001b[39m(\u001b[38;5;28mself\u001b[39m, config: ClientConfig \u001b[38;5;241m|\u001b[39m \u001b[38;5;28;01mNone\u001b[39;00m \u001b[38;5;241m=\u001b[39m \u001b[38;5;28;01mNone\u001b[39;00m) \u001b[38;5;241m-\u001b[39m\u001b[38;5;241m>\u001b[39m \u001b[38;5;28;01mNone\u001b[39;00m:\n\u001b[0;32m     53\u001b[0m     \u001b[38;5;28;01mif\u001b[39;00m (client_config \u001b[38;5;241m:=\u001b[39m config \u001b[38;5;129;01mor\u001b[39;00m global_config\u001b[38;5;241m.\u001b[39mdefault_client_config) \u001b[38;5;129;01mis\u001b[39;00m \u001b[38;5;28;01mNone\u001b[39;00m:\n\u001b[1;32m---> 54\u001b[0m         \u001b[38;5;28;01mraise\u001b[39;00m \u001b[38;5;167;01mValueError\u001b[39;00m(\n\u001b[0;32m     55\u001b[0m             \u001b[38;5;124m\"\u001b[39m\u001b[38;5;124mNo ClientConfig has been provided, either pass it directly to CogniteClient \u001b[39m\u001b[38;5;124m\"\u001b[39m\n\u001b[0;32m     56\u001b[0m             \u001b[38;5;124m\"\u001b[39m\u001b[38;5;124mor set global_config.default_client_config.\u001b[39m\u001b[38;5;124m\"\u001b[39m\n\u001b[0;32m     57\u001b[0m         )\n\u001b[0;32m     58\u001b[0m     \u001b[38;5;28;01melse\u001b[39;00m:\n\u001b[0;32m     59\u001b[0m         \u001b[38;5;28mself\u001b[39m\u001b[38;5;241m.\u001b[39m_config \u001b[38;5;241m=\u001b[39m client_config\n",
      "\u001b[1;31mValueError\u001b[0m: No ClientConfig has been provided, either pass it directly to CogniteClient or set global_config.default_client_config."
     ]
    }
   ],
   "source": [
    "client = CogniteClient()"
   ]
  },
  {
   "cell_type": "code",
   "execution_count": 16,
   "metadata": {},
   "outputs": [],
   "source": [
    "space = \"oee_space\"\n",
    "data_model_external_id = \"OEE\"\n",
    "data_model_version = \"1\"\n",
    "data_model_id = (space, data_model_external_id, data_model_version)"
   ]
  },
  {
   "cell_type": "code",
   "execution_count": 27,
   "metadata": {},
   "outputs": [
    {
     "ename": "NameError",
     "evalue": "name 'client' is not defined",
     "output_type": "error",
     "traceback": [
      "\u001b[1;31m---------------------------------------------------------------------------\u001b[0m",
      "\u001b[1;31mNameError\u001b[0m                                 Traceback (most recent call last)",
      "Cell \u001b[1;32mIn[27], line 3\u001b[0m\n\u001b[0;32m      1\u001b[0m \u001b[38;5;66;03m# List existing nodes in the space\u001b[39;00m\n\u001b[0;32m      2\u001b[0m \u001b[38;5;66;03m# List existing nodes in the space\u001b[39;00m\n\u001b[1;32m----> 3\u001b[0m nodes \u001b[38;5;241m=\u001b[39m \u001b[43mclient\u001b[49m\u001b[38;5;241m.\u001b[39mdata_modeling\u001b[38;5;241m.\u001b[39minstances\u001b[38;5;241m.\u001b[39mlist(limit\u001b[38;5;241m=\u001b[39m\u001b[38;5;241m10\u001b[39m)  \u001b[38;5;66;03m# Adjust limit as needed\u001b[39;00m\n\u001b[0;32m      5\u001b[0m \u001b[38;5;66;03m# Print existing node IDs\u001b[39;00m\n\u001b[0;32m      6\u001b[0m \u001b[38;5;28;01mfor\u001b[39;00m node \u001b[38;5;129;01min\u001b[39;00m nodes:\n",
      "\u001b[1;31mNameError\u001b[0m: name 'client' is not defined"
     ]
    }
   ],
   "source": [
    "# List existing nodes in the space\n",
    "# List existing nodes in the space\n",
    "nodes = client.data_modeling.instances.list(limit=10)  # Adjust limit as needed\n",
    "\n",
    "# Print existing node IDs\n",
    "for node in nodes:\n",
    "    print(f\"Node ID: {node.external_id}\")\n",
    "\n",
    "#node = NodeApply(space, \"myNodeId\")\n",
    "#res = client.data_modeling.instances.apply(node)\n",
    "\n",
    "#pygen = generate_sdk_notebook(data_model_id, client)"
   ]
  },
  {
   "cell_type": "code",
   "execution_count": 25,
   "metadata": {},
   "outputs": [
    {
     "ename": "NameError",
     "evalue": "name 'pygen' is not defined",
     "output_type": "error",
     "traceback": [
      "\u001b[1;31m---------------------------------------------------------------------------\u001b[0m",
      "\u001b[1;31mNameError\u001b[0m                                 Traceback (most recent call last)",
      "Cell \u001b[1;32mIn[25], line 1\u001b[0m\n\u001b[1;32m----> 1\u001b[0m \u001b[43mpygen\u001b[49m\u001b[38;5;241m.\u001b[39msite_oee\u001b[38;5;241m.\u001b[39mlist(limit\u001b[38;5;241m=\u001b[39m\u001b[38;5;241m5\u001b[39m)\n",
      "\u001b[1;31mNameError\u001b[0m: name 'pygen' is not defined"
     ]
    }
   ],
   "source": [
    "pygen.site_oee.list(limit=5)"
   ]
  },
  {
   "cell_type": "code",
   "execution_count": 21,
   "metadata": {},
   "outputs": [
    {
     "ename": "TypeError",
     "evalue": "'module' object is not callable",
     "output_type": "error",
     "traceback": [
      "\u001b[1;31m---------------------------------------------------------------------------\u001b[0m",
      "\u001b[1;31mTypeError\u001b[0m                                 Traceback (most recent call last)",
      "Cell \u001b[1;32mIn[21], line 4\u001b[0m\n\u001b[0;32m      1\u001b[0m \u001b[38;5;66;03m# Define Data to Populate\u001b[39;00m\n\u001b[0;32m      2\u001b[0m data \u001b[38;5;241m=\u001b[39m InstanceApply(\n\u001b[0;32m      3\u001b[0m     instances\u001b[38;5;241m=\u001b[39m[\n\u001b[1;32m----> 4\u001b[0m         \u001b[43minstances\u001b[49m\u001b[43m(\u001b[49m\n\u001b[0;32m      5\u001b[0m \u001b[43m            \u001b[49m\u001b[43mspace\u001b[49m\u001b[38;5;241;43m=\u001b[39;49m\u001b[38;5;124;43m\"\u001b[39;49m\u001b[38;5;124;43moee_space\u001b[39;49m\u001b[38;5;124;43m\"\u001b[39;49m\u001b[43m,\u001b[49m\n\u001b[0;32m      6\u001b[0m \u001b[43m            \u001b[49m\u001b[43mexternal_id\u001b[49m\u001b[38;5;241;43m=\u001b[39;49m\u001b[38;5;124;43m\"\u001b[39;49m\u001b[38;5;124;43msite_001\u001b[39;49m\u001b[38;5;124;43m\"\u001b[39;49m\u001b[43m,\u001b[49m\n\u001b[0;32m      7\u001b[0m \u001b[43m            \u001b[49m\u001b[43mproperties\u001b[49m\u001b[38;5;241;43m=\u001b[39;49m\u001b[43m{\u001b[49m\n\u001b[0;32m      8\u001b[0m \u001b[43m                \u001b[49m\u001b[38;5;124;43m\"\u001b[39;49m\u001b[38;5;124;43mname\u001b[39;49m\u001b[38;5;124;43m\"\u001b[39;49m\u001b[43m:\u001b[49m\u001b[43m \u001b[49m\u001b[38;5;124;43m\"\u001b[39;49m\u001b[38;5;124;43mSite A\u001b[39;49m\u001b[38;5;124;43m\"\u001b[39;49m\u001b[43m,\u001b[49m\n\u001b[0;32m      9\u001b[0m \u001b[43m                \u001b[49m\u001b[38;5;124;43m\"\u001b[39;49m\u001b[38;5;124;43moee_value\u001b[39;49m\u001b[38;5;124;43m\"\u001b[39;49m\u001b[43m:\u001b[49m\u001b[43m \u001b[49m\u001b[38;5;241;43m85.5\u001b[39;49m\u001b[43m,\u001b[49m\n\u001b[0;32m     10\u001b[0m \u001b[43m                \u001b[49m\u001b[38;5;124;43m\"\u001b[39;49m\u001b[38;5;124;43mtimestamp\u001b[39;49m\u001b[38;5;124;43m\"\u001b[39;49m\u001b[43m:\u001b[49m\u001b[43m \u001b[49m\u001b[38;5;124;43m\"\u001b[39;49m\u001b[38;5;124;43m2025-02-28T12:00:00Z\u001b[39;49m\u001b[38;5;124;43m\"\u001b[39;49m\n\u001b[0;32m     11\u001b[0m \u001b[43m            \u001b[49m\u001b[43m}\u001b[49m\n\u001b[0;32m     12\u001b[0m \u001b[43m        \u001b[49m\u001b[43m)\u001b[49m,\n\u001b[0;32m     13\u001b[0m         instances(\n\u001b[0;32m     14\u001b[0m             space\u001b[38;5;241m=\u001b[39m\u001b[38;5;124m\"\u001b[39m\u001b[38;5;124moee_space\u001b[39m\u001b[38;5;124m\"\u001b[39m,\n\u001b[0;32m     15\u001b[0m             external_id\u001b[38;5;241m=\u001b[39m\u001b[38;5;124m\"\u001b[39m\u001b[38;5;124msite_002\u001b[39m\u001b[38;5;124m\"\u001b[39m,\n\u001b[0;32m     16\u001b[0m             properties\u001b[38;5;241m=\u001b[39m{\n\u001b[0;32m     17\u001b[0m                 \u001b[38;5;124m\"\u001b[39m\u001b[38;5;124mname\u001b[39m\u001b[38;5;124m\"\u001b[39m: \u001b[38;5;124m\"\u001b[39m\u001b[38;5;124mSite B\u001b[39m\u001b[38;5;124m\"\u001b[39m,\n\u001b[0;32m     18\u001b[0m                 \u001b[38;5;124m\"\u001b[39m\u001b[38;5;124moee_value\u001b[39m\u001b[38;5;124m\"\u001b[39m: \u001b[38;5;241m78.3\u001b[39m,\n\u001b[0;32m     19\u001b[0m                 \u001b[38;5;124m\"\u001b[39m\u001b[38;5;124mtimestamp\u001b[39m\u001b[38;5;124m\"\u001b[39m: \u001b[38;5;124m\"\u001b[39m\u001b[38;5;124m2025-02-28T12:05:00Z\u001b[39m\u001b[38;5;124m\"\u001b[39m\n\u001b[0;32m     20\u001b[0m             }\n\u001b[0;32m     21\u001b[0m         )\n\u001b[0;32m     22\u001b[0m     ]\n\u001b[0;32m     23\u001b[0m )\n\u001b[0;32m     25\u001b[0m \u001b[38;5;66;03m# Apply the Data\u001b[39;00m\n\u001b[0;32m     26\u001b[0m pygen\u001b[38;5;241m.\u001b[39msite_oee\u001b[38;5;241m.\u001b[39minstances\u001b[38;5;241m.\u001b[39mapply(data)\n",
      "\u001b[1;31mTypeError\u001b[0m: 'module' object is not callable"
     ]
    }
   ],
   "source": [
    "# Define Data to Populate\n",
    "data = InstanceApply(\n",
    "    instances=[\n",
    "        instances(\n",
    "            space=\"oee_space\",\n",
    "            external_id=\"site_001\",\n",
    "            properties={\n",
    "                \"name\": \"Site A\",\n",
    "                \"oee_value\": 85.5,\n",
    "                \"timestamp\": \"2025-02-28T12:00:00Z\"\n",
    "            }\n",
    "        ),\n",
    "        instances(\n",
    "            space=\"oee_space\",\n",
    "            external_id=\"site_002\",\n",
    "            properties={\n",
    "                \"name\": \"Site B\",\n",
    "                \"oee_value\": 78.3,\n",
    "                \"timestamp\": \"2025-02-28T12:05:00Z\"\n",
    "            }\n",
    "        )\n",
    "    ]\n",
    ")\n",
    "\n",
    "# Apply the Data\n",
    "pygen.site_oee.instances.apply(data)"
   ]
  },
  {
   "cell_type": "code",
   "execution_count": null,
   "metadata": {},
   "outputs": [
    {
     "ename": "AttributeError",
     "evalue": "module 'oee.data_classes' has no attribute 'oeeWrite'",
     "output_type": "error",
     "traceback": [
      "\u001b[1;31m---------------------------------------------------------------------------\u001b[0m",
      "\u001b[1;31mAttributeError\u001b[0m                            Traceback (most recent call last)",
      "Cell \u001b[1;32mIn[26], line 2\u001b[0m\n\u001b[0;32m      1\u001b[0m \u001b[38;5;28;01mfrom\u001b[39;00m \u001b[38;5;21;01moee\u001b[39;00m \u001b[38;5;28;01mimport\u001b[39;00m data_classes \u001b[38;5;28;01mas\u001b[39;00m data_cls\n\u001b[1;32m----> 2\u001b[0m new \u001b[38;5;241m=\u001b[39m \u001b[43mdata_cls\u001b[49m\u001b[38;5;241;43m.\u001b[39;49m\u001b[43moeeWrite\u001b[49m(\n\u001b[0;32m      3\u001b[0m     external_id\u001b[38;5;241m=\u001b[39m\u001b[38;5;124m\"\u001b[39m\u001b[38;5;124moee:demo\u001b[39m\u001b[38;5;124m\"\u001b[39m,\n\u001b[0;32m      4\u001b[0m     overall_oee\u001b[38;5;241m=\u001b[39m\u001b[38;5;241m85.5\u001b[39m,\n\u001b[0;32m      5\u001b[0m     availability\u001b[38;5;241m=\u001b[39m\u001b[38;5;241m90.2\u001b[39m,\n\u001b[0;32m      6\u001b[0m     performance\u001b[38;5;241m=\u001b[39m\u001b[38;5;241m88.0\u001b[39m,\n\u001b[0;32m      7\u001b[0m     quality\u001b[38;5;241m=\u001b[39m\u001b[38;5;241m96.5\u001b[39m\n\u001b[0;32m      8\u001b[0m )\n",
      "\u001b[1;31mAttributeError\u001b[0m: module 'oee.data_classes' has no attribute 'oeeWrite'"
     ]
    }
   ],
   "source": [
    "\n"
   ]
  }
 ],
 "metadata": {
  "kernelspec": {
   "display_name": "Python 3",
   "language": "python",
   "name": "python3"
  },
  "language_info": {
   "codemirror_mode": {
    "name": "ipython",
    "version": 3
   },
   "file_extension": ".py",
   "mimetype": "text/x-python",
   "name": "python",
   "nbconvert_exporter": "python",
   "pygments_lexer": "ipython3",
   "version": "3.11.5"
  }
 },
 "nbformat": 4,
 "nbformat_minor": 2
}
